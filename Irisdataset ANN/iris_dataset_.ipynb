{
  "nbformat": 4,
  "nbformat_minor": 0,
  "metadata": {
    "colab": {
      "provenance": [],
      "gpuType": "T4"
    },
    "kernelspec": {
      "name": "python3",
      "display_name": "Python 3"
    },
    "language_info": {
      "name": "python"
    },
    "accelerator": "GPU"
  },
  "cells": [
    {
      "cell_type": "code",
      "execution_count": 1,
      "metadata": {
        "id": "X5sA33uLaGIg"
      },
      "outputs": [],
      "source": [
        "import pandas as pd\n",
        "import numpy as  np\n",
        "import matplotlib.pyplot as plt\n",
        "import seaborn as sns"
      ]
    },
    {
      "cell_type": "code",
      "source": [
        "data = pd.read_csv('/content/Irisdataset.csv')\n",
        "data.head()"
      ],
      "metadata": {
        "colab": {
          "base_uri": "https://localhost:8080/",
          "height": 206
        },
        "id": "N2g4_XIBbYLh",
        "outputId": "93a97bbf-3f31-4201-a9f6-a2928d0e4347"
      },
      "execution_count": 2,
      "outputs": [
        {
          "output_type": "execute_result",
          "data": {
            "text/plain": [
              "   Id  SepalLengthCm  SepalWidthCm  PetalLengthCm  PetalWidthCm      Species\n",
              "0   1            5.1           3.5            1.4           0.2  Iris-setosa\n",
              "1   2            4.9           3.0            1.4           0.2  Iris-setosa\n",
              "2   3            4.7           3.2            1.3           0.2  Iris-setosa\n",
              "3   4            4.6           3.1            1.5           0.2  Iris-setosa\n",
              "4   5            5.0           3.6            1.4           0.2  Iris-setosa"
            ],
            "text/html": [
              "\n",
              "  <div id=\"df-91a8a448-7faf-40d9-9dba-7be785a9f401\" class=\"colab-df-container\">\n",
              "    <div>\n",
              "<style scoped>\n",
              "    .dataframe tbody tr th:only-of-type {\n",
              "        vertical-align: middle;\n",
              "    }\n",
              "\n",
              "    .dataframe tbody tr th {\n",
              "        vertical-align: top;\n",
              "    }\n",
              "\n",
              "    .dataframe thead th {\n",
              "        text-align: right;\n",
              "    }\n",
              "</style>\n",
              "<table border=\"1\" class=\"dataframe\">\n",
              "  <thead>\n",
              "    <tr style=\"text-align: right;\">\n",
              "      <th></th>\n",
              "      <th>Id</th>\n",
              "      <th>SepalLengthCm</th>\n",
              "      <th>SepalWidthCm</th>\n",
              "      <th>PetalLengthCm</th>\n",
              "      <th>PetalWidthCm</th>\n",
              "      <th>Species</th>\n",
              "    </tr>\n",
              "  </thead>\n",
              "  <tbody>\n",
              "    <tr>\n",
              "      <th>0</th>\n",
              "      <td>1</td>\n",
              "      <td>5.1</td>\n",
              "      <td>3.5</td>\n",
              "      <td>1.4</td>\n",
              "      <td>0.2</td>\n",
              "      <td>Iris-setosa</td>\n",
              "    </tr>\n",
              "    <tr>\n",
              "      <th>1</th>\n",
              "      <td>2</td>\n",
              "      <td>4.9</td>\n",
              "      <td>3.0</td>\n",
              "      <td>1.4</td>\n",
              "      <td>0.2</td>\n",
              "      <td>Iris-setosa</td>\n",
              "    </tr>\n",
              "    <tr>\n",
              "      <th>2</th>\n",
              "      <td>3</td>\n",
              "      <td>4.7</td>\n",
              "      <td>3.2</td>\n",
              "      <td>1.3</td>\n",
              "      <td>0.2</td>\n",
              "      <td>Iris-setosa</td>\n",
              "    </tr>\n",
              "    <tr>\n",
              "      <th>3</th>\n",
              "      <td>4</td>\n",
              "      <td>4.6</td>\n",
              "      <td>3.1</td>\n",
              "      <td>1.5</td>\n",
              "      <td>0.2</td>\n",
              "      <td>Iris-setosa</td>\n",
              "    </tr>\n",
              "    <tr>\n",
              "      <th>4</th>\n",
              "      <td>5</td>\n",
              "      <td>5.0</td>\n",
              "      <td>3.6</td>\n",
              "      <td>1.4</td>\n",
              "      <td>0.2</td>\n",
              "      <td>Iris-setosa</td>\n",
              "    </tr>\n",
              "  </tbody>\n",
              "</table>\n",
              "</div>\n",
              "    <div class=\"colab-df-buttons\">\n",
              "\n",
              "  <div class=\"colab-df-container\">\n",
              "    <button class=\"colab-df-convert\" onclick=\"convertToInteractive('df-91a8a448-7faf-40d9-9dba-7be785a9f401')\"\n",
              "            title=\"Convert this dataframe to an interactive table.\"\n",
              "            style=\"display:none;\">\n",
              "\n",
              "  <svg xmlns=\"http://www.w3.org/2000/svg\" height=\"24px\" viewBox=\"0 -960 960 960\">\n",
              "    <path d=\"M120-120v-720h720v720H120Zm60-500h600v-160H180v160Zm220 220h160v-160H400v160Zm0 220h160v-160H400v160ZM180-400h160v-160H180v160Zm440 0h160v-160H620v160ZM180-180h160v-160H180v160Zm440 0h160v-160H620v160Z\"/>\n",
              "  </svg>\n",
              "    </button>\n",
              "\n",
              "  <style>\n",
              "    .colab-df-container {\n",
              "      display:flex;\n",
              "      gap: 12px;\n",
              "    }\n",
              "\n",
              "    .colab-df-convert {\n",
              "      background-color: #E8F0FE;\n",
              "      border: none;\n",
              "      border-radius: 50%;\n",
              "      cursor: pointer;\n",
              "      display: none;\n",
              "      fill: #1967D2;\n",
              "      height: 32px;\n",
              "      padding: 0 0 0 0;\n",
              "      width: 32px;\n",
              "    }\n",
              "\n",
              "    .colab-df-convert:hover {\n",
              "      background-color: #E2EBFA;\n",
              "      box-shadow: 0px 1px 2px rgba(60, 64, 67, 0.3), 0px 1px 3px 1px rgba(60, 64, 67, 0.15);\n",
              "      fill: #174EA6;\n",
              "    }\n",
              "\n",
              "    .colab-df-buttons div {\n",
              "      margin-bottom: 4px;\n",
              "    }\n",
              "\n",
              "    [theme=dark] .colab-df-convert {\n",
              "      background-color: #3B4455;\n",
              "      fill: #D2E3FC;\n",
              "    }\n",
              "\n",
              "    [theme=dark] .colab-df-convert:hover {\n",
              "      background-color: #434B5C;\n",
              "      box-shadow: 0px 1px 3px 1px rgba(0, 0, 0, 0.15);\n",
              "      filter: drop-shadow(0px 1px 2px rgba(0, 0, 0, 0.3));\n",
              "      fill: #FFFFFF;\n",
              "    }\n",
              "  </style>\n",
              "\n",
              "    <script>\n",
              "      const buttonEl =\n",
              "        document.querySelector('#df-91a8a448-7faf-40d9-9dba-7be785a9f401 button.colab-df-convert');\n",
              "      buttonEl.style.display =\n",
              "        google.colab.kernel.accessAllowed ? 'block' : 'none';\n",
              "\n",
              "      async function convertToInteractive(key) {\n",
              "        const element = document.querySelector('#df-91a8a448-7faf-40d9-9dba-7be785a9f401');\n",
              "        const dataTable =\n",
              "          await google.colab.kernel.invokeFunction('convertToInteractive',\n",
              "                                                    [key], {});\n",
              "        if (!dataTable) return;\n",
              "\n",
              "        const docLinkHtml = 'Like what you see? Visit the ' +\n",
              "          '<a target=\"_blank\" href=https://colab.research.google.com/notebooks/data_table.ipynb>data table notebook</a>'\n",
              "          + ' to learn more about interactive tables.';\n",
              "        element.innerHTML = '';\n",
              "        dataTable['output_type'] = 'display_data';\n",
              "        await google.colab.output.renderOutput(dataTable, element);\n",
              "        const docLink = document.createElement('div');\n",
              "        docLink.innerHTML = docLinkHtml;\n",
              "        element.appendChild(docLink);\n",
              "      }\n",
              "    </script>\n",
              "  </div>\n",
              "\n",
              "\n",
              "<div id=\"df-6e776d43-dfcc-456e-98c1-c87666788318\">\n",
              "  <button class=\"colab-df-quickchart\" onclick=\"quickchart('df-6e776d43-dfcc-456e-98c1-c87666788318')\"\n",
              "            title=\"Suggest charts\"\n",
              "            style=\"display:none;\">\n",
              "\n",
              "<svg xmlns=\"http://www.w3.org/2000/svg\" height=\"24px\"viewBox=\"0 0 24 24\"\n",
              "     width=\"24px\">\n",
              "    <g>\n",
              "        <path d=\"M19 3H5c-1.1 0-2 .9-2 2v14c0 1.1.9 2 2 2h14c1.1 0 2-.9 2-2V5c0-1.1-.9-2-2-2zM9 17H7v-7h2v7zm4 0h-2V7h2v10zm4 0h-2v-4h2v4z\"/>\n",
              "    </g>\n",
              "</svg>\n",
              "  </button>\n",
              "\n",
              "<style>\n",
              "  .colab-df-quickchart {\n",
              "      --bg-color: #E8F0FE;\n",
              "      --fill-color: #1967D2;\n",
              "      --hover-bg-color: #E2EBFA;\n",
              "      --hover-fill-color: #174EA6;\n",
              "      --disabled-fill-color: #AAA;\n",
              "      --disabled-bg-color: #DDD;\n",
              "  }\n",
              "\n",
              "  [theme=dark] .colab-df-quickchart {\n",
              "      --bg-color: #3B4455;\n",
              "      --fill-color: #D2E3FC;\n",
              "      --hover-bg-color: #434B5C;\n",
              "      --hover-fill-color: #FFFFFF;\n",
              "      --disabled-bg-color: #3B4455;\n",
              "      --disabled-fill-color: #666;\n",
              "  }\n",
              "\n",
              "  .colab-df-quickchart {\n",
              "    background-color: var(--bg-color);\n",
              "    border: none;\n",
              "    border-radius: 50%;\n",
              "    cursor: pointer;\n",
              "    display: none;\n",
              "    fill: var(--fill-color);\n",
              "    height: 32px;\n",
              "    padding: 0;\n",
              "    width: 32px;\n",
              "  }\n",
              "\n",
              "  .colab-df-quickchart:hover {\n",
              "    background-color: var(--hover-bg-color);\n",
              "    box-shadow: 0 1px 2px rgba(60, 64, 67, 0.3), 0 1px 3px 1px rgba(60, 64, 67, 0.15);\n",
              "    fill: var(--button-hover-fill-color);\n",
              "  }\n",
              "\n",
              "  .colab-df-quickchart-complete:disabled,\n",
              "  .colab-df-quickchart-complete:disabled:hover {\n",
              "    background-color: var(--disabled-bg-color);\n",
              "    fill: var(--disabled-fill-color);\n",
              "    box-shadow: none;\n",
              "  }\n",
              "\n",
              "  .colab-df-spinner {\n",
              "    border: 2px solid var(--fill-color);\n",
              "    border-color: transparent;\n",
              "    border-bottom-color: var(--fill-color);\n",
              "    animation:\n",
              "      spin 1s steps(1) infinite;\n",
              "  }\n",
              "\n",
              "  @keyframes spin {\n",
              "    0% {\n",
              "      border-color: transparent;\n",
              "      border-bottom-color: var(--fill-color);\n",
              "      border-left-color: var(--fill-color);\n",
              "    }\n",
              "    20% {\n",
              "      border-color: transparent;\n",
              "      border-left-color: var(--fill-color);\n",
              "      border-top-color: var(--fill-color);\n",
              "    }\n",
              "    30% {\n",
              "      border-color: transparent;\n",
              "      border-left-color: var(--fill-color);\n",
              "      border-top-color: var(--fill-color);\n",
              "      border-right-color: var(--fill-color);\n",
              "    }\n",
              "    40% {\n",
              "      border-color: transparent;\n",
              "      border-right-color: var(--fill-color);\n",
              "      border-top-color: var(--fill-color);\n",
              "    }\n",
              "    60% {\n",
              "      border-color: transparent;\n",
              "      border-right-color: var(--fill-color);\n",
              "    }\n",
              "    80% {\n",
              "      border-color: transparent;\n",
              "      border-right-color: var(--fill-color);\n",
              "      border-bottom-color: var(--fill-color);\n",
              "    }\n",
              "    90% {\n",
              "      border-color: transparent;\n",
              "      border-bottom-color: var(--fill-color);\n",
              "    }\n",
              "  }\n",
              "</style>\n",
              "\n",
              "  <script>\n",
              "    async function quickchart(key) {\n",
              "      const quickchartButtonEl =\n",
              "        document.querySelector('#' + key + ' button');\n",
              "      quickchartButtonEl.disabled = true;  // To prevent multiple clicks.\n",
              "      quickchartButtonEl.classList.add('colab-df-spinner');\n",
              "      try {\n",
              "        const charts = await google.colab.kernel.invokeFunction(\n",
              "            'suggestCharts', [key], {});\n",
              "      } catch (error) {\n",
              "        console.error('Error during call to suggestCharts:', error);\n",
              "      }\n",
              "      quickchartButtonEl.classList.remove('colab-df-spinner');\n",
              "      quickchartButtonEl.classList.add('colab-df-quickchart-complete');\n",
              "    }\n",
              "    (() => {\n",
              "      let quickchartButtonEl =\n",
              "        document.querySelector('#df-6e776d43-dfcc-456e-98c1-c87666788318 button');\n",
              "      quickchartButtonEl.style.display =\n",
              "        google.colab.kernel.accessAllowed ? 'block' : 'none';\n",
              "    })();\n",
              "  </script>\n",
              "</div>\n",
              "\n",
              "    </div>\n",
              "  </div>\n"
            ],
            "application/vnd.google.colaboratory.intrinsic+json": {
              "type": "dataframe",
              "variable_name": "data",
              "summary": "{\n  \"name\": \"data\",\n  \"rows\": 150,\n  \"fields\": [\n    {\n      \"column\": \"Id\",\n      \"properties\": {\n        \"dtype\": \"number\",\n        \"std\": 43,\n        \"min\": 1,\n        \"max\": 150,\n        \"num_unique_values\": 150,\n        \"samples\": [\n          74,\n          19,\n          119\n        ],\n        \"semantic_type\": \"\",\n        \"description\": \"\"\n      }\n    },\n    {\n      \"column\": \"SepalLengthCm\",\n      \"properties\": {\n        \"dtype\": \"number\",\n        \"std\": 0.8280661279778629,\n        \"min\": 4.3,\n        \"max\": 7.9,\n        \"num_unique_values\": 35,\n        \"samples\": [\n          6.2,\n          4.5,\n          5.6\n        ],\n        \"semantic_type\": \"\",\n        \"description\": \"\"\n      }\n    },\n    {\n      \"column\": \"SepalWidthCm\",\n      \"properties\": {\n        \"dtype\": \"number\",\n        \"std\": 0.4335943113621737,\n        \"min\": 2.0,\n        \"max\": 4.4,\n        \"num_unique_values\": 23,\n        \"samples\": [\n          2.3,\n          4.0,\n          3.5\n        ],\n        \"semantic_type\": \"\",\n        \"description\": \"\"\n      }\n    },\n    {\n      \"column\": \"PetalLengthCm\",\n      \"properties\": {\n        \"dtype\": \"number\",\n        \"std\": 1.7644204199522617,\n        \"min\": 1.0,\n        \"max\": 6.9,\n        \"num_unique_values\": 43,\n        \"samples\": [\n          6.7,\n          3.8,\n          3.7\n        ],\n        \"semantic_type\": \"\",\n        \"description\": \"\"\n      }\n    },\n    {\n      \"column\": \"PetalWidthCm\",\n      \"properties\": {\n        \"dtype\": \"number\",\n        \"std\": 0.7631607417008414,\n        \"min\": 0.1,\n        \"max\": 2.5,\n        \"num_unique_values\": 22,\n        \"samples\": [\n          0.2,\n          1.2,\n          1.3\n        ],\n        \"semantic_type\": \"\",\n        \"description\": \"\"\n      }\n    },\n    {\n      \"column\": \"Species\",\n      \"properties\": {\n        \"dtype\": \"category\",\n        \"num_unique_values\": 3,\n        \"samples\": [\n          \"Iris-setosa\",\n          \"Iris-versicolor\",\n          \"Iris-virginica\"\n        ],\n        \"semantic_type\": \"\",\n        \"description\": \"\"\n      }\n    }\n  ]\n}"
            }
          },
          "metadata": {},
          "execution_count": 2
        }
      ]
    },
    {
      "cell_type": "code",
      "source": [
        "data.shape"
      ],
      "metadata": {
        "colab": {
          "base_uri": "https://localhost:8080/"
        },
        "id": "U7hj-ltrbeCu",
        "outputId": "443ac448-805d-4894-e02b-dff7daf30470"
      },
      "execution_count": 3,
      "outputs": [
        {
          "output_type": "execute_result",
          "data": {
            "text/plain": [
              "(150, 6)"
            ]
          },
          "metadata": {},
          "execution_count": 3
        }
      ]
    },
    {
      "cell_type": "code",
      "source": [
        "data.info()"
      ],
      "metadata": {
        "colab": {
          "base_uri": "https://localhost:8080/"
        },
        "id": "XvITW4Mzbf6G",
        "outputId": "ec315622-208b-4ad3-a665-53bf11056a5e"
      },
      "execution_count": 4,
      "outputs": [
        {
          "output_type": "stream",
          "name": "stdout",
          "text": [
            "<class 'pandas.core.frame.DataFrame'>\n",
            "RangeIndex: 150 entries, 0 to 149\n",
            "Data columns (total 6 columns):\n",
            " #   Column         Non-Null Count  Dtype  \n",
            "---  ------         --------------  -----  \n",
            " 0   Id             150 non-null    int64  \n",
            " 1   SepalLengthCm  150 non-null    float64\n",
            " 2   SepalWidthCm   150 non-null    float64\n",
            " 3   PetalLengthCm  150 non-null    float64\n",
            " 4   PetalWidthCm   150 non-null    float64\n",
            " 5   Species        150 non-null    object \n",
            "dtypes: float64(4), int64(1), object(1)\n",
            "memory usage: 7.2+ KB\n"
          ]
        }
      ]
    },
    {
      "cell_type": "code",
      "source": [
        "data.describe().T"
      ],
      "metadata": {
        "colab": {
          "base_uri": "https://localhost:8080/",
          "height": 206
        },
        "id": "SccTp5AEboqn",
        "outputId": "3300bc5e-bbe3-4c74-b927-9fdf8a434bde"
      },
      "execution_count": 5,
      "outputs": [
        {
          "output_type": "execute_result",
          "data": {
            "text/plain": [
              "               count       mean        std  min    25%    50%     75%    max\n",
              "Id             150.0  75.500000  43.445368  1.0  38.25  75.50  112.75  150.0\n",
              "SepalLengthCm  150.0   5.843333   0.828066  4.3   5.10   5.80    6.40    7.9\n",
              "SepalWidthCm   150.0   3.054000   0.433594  2.0   2.80   3.00    3.30    4.4\n",
              "PetalLengthCm  150.0   3.758667   1.764420  1.0   1.60   4.35    5.10    6.9\n",
              "PetalWidthCm   150.0   1.198667   0.763161  0.1   0.30   1.30    1.80    2.5"
            ],
            "text/html": [
              "\n",
              "  <div id=\"df-aa67a1d3-9809-4846-9cc1-2b79b70e5a0e\" class=\"colab-df-container\">\n",
              "    <div>\n",
              "<style scoped>\n",
              "    .dataframe tbody tr th:only-of-type {\n",
              "        vertical-align: middle;\n",
              "    }\n",
              "\n",
              "    .dataframe tbody tr th {\n",
              "        vertical-align: top;\n",
              "    }\n",
              "\n",
              "    .dataframe thead th {\n",
              "        text-align: right;\n",
              "    }\n",
              "</style>\n",
              "<table border=\"1\" class=\"dataframe\">\n",
              "  <thead>\n",
              "    <tr style=\"text-align: right;\">\n",
              "      <th></th>\n",
              "      <th>count</th>\n",
              "      <th>mean</th>\n",
              "      <th>std</th>\n",
              "      <th>min</th>\n",
              "      <th>25%</th>\n",
              "      <th>50%</th>\n",
              "      <th>75%</th>\n",
              "      <th>max</th>\n",
              "    </tr>\n",
              "  </thead>\n",
              "  <tbody>\n",
              "    <tr>\n",
              "      <th>Id</th>\n",
              "      <td>150.0</td>\n",
              "      <td>75.500000</td>\n",
              "      <td>43.445368</td>\n",
              "      <td>1.0</td>\n",
              "      <td>38.25</td>\n",
              "      <td>75.50</td>\n",
              "      <td>112.75</td>\n",
              "      <td>150.0</td>\n",
              "    </tr>\n",
              "    <tr>\n",
              "      <th>SepalLengthCm</th>\n",
              "      <td>150.0</td>\n",
              "      <td>5.843333</td>\n",
              "      <td>0.828066</td>\n",
              "      <td>4.3</td>\n",
              "      <td>5.10</td>\n",
              "      <td>5.80</td>\n",
              "      <td>6.40</td>\n",
              "      <td>7.9</td>\n",
              "    </tr>\n",
              "    <tr>\n",
              "      <th>SepalWidthCm</th>\n",
              "      <td>150.0</td>\n",
              "      <td>3.054000</td>\n",
              "      <td>0.433594</td>\n",
              "      <td>2.0</td>\n",
              "      <td>2.80</td>\n",
              "      <td>3.00</td>\n",
              "      <td>3.30</td>\n",
              "      <td>4.4</td>\n",
              "    </tr>\n",
              "    <tr>\n",
              "      <th>PetalLengthCm</th>\n",
              "      <td>150.0</td>\n",
              "      <td>3.758667</td>\n",
              "      <td>1.764420</td>\n",
              "      <td>1.0</td>\n",
              "      <td>1.60</td>\n",
              "      <td>4.35</td>\n",
              "      <td>5.10</td>\n",
              "      <td>6.9</td>\n",
              "    </tr>\n",
              "    <tr>\n",
              "      <th>PetalWidthCm</th>\n",
              "      <td>150.0</td>\n",
              "      <td>1.198667</td>\n",
              "      <td>0.763161</td>\n",
              "      <td>0.1</td>\n",
              "      <td>0.30</td>\n",
              "      <td>1.30</td>\n",
              "      <td>1.80</td>\n",
              "      <td>2.5</td>\n",
              "    </tr>\n",
              "  </tbody>\n",
              "</table>\n",
              "</div>\n",
              "    <div class=\"colab-df-buttons\">\n",
              "\n",
              "  <div class=\"colab-df-container\">\n",
              "    <button class=\"colab-df-convert\" onclick=\"convertToInteractive('df-aa67a1d3-9809-4846-9cc1-2b79b70e5a0e')\"\n",
              "            title=\"Convert this dataframe to an interactive table.\"\n",
              "            style=\"display:none;\">\n",
              "\n",
              "  <svg xmlns=\"http://www.w3.org/2000/svg\" height=\"24px\" viewBox=\"0 -960 960 960\">\n",
              "    <path d=\"M120-120v-720h720v720H120Zm60-500h600v-160H180v160Zm220 220h160v-160H400v160Zm0 220h160v-160H400v160ZM180-400h160v-160H180v160Zm440 0h160v-160H620v160ZM180-180h160v-160H180v160Zm440 0h160v-160H620v160Z\"/>\n",
              "  </svg>\n",
              "    </button>\n",
              "\n",
              "  <style>\n",
              "    .colab-df-container {\n",
              "      display:flex;\n",
              "      gap: 12px;\n",
              "    }\n",
              "\n",
              "    .colab-df-convert {\n",
              "      background-color: #E8F0FE;\n",
              "      border: none;\n",
              "      border-radius: 50%;\n",
              "      cursor: pointer;\n",
              "      display: none;\n",
              "      fill: #1967D2;\n",
              "      height: 32px;\n",
              "      padding: 0 0 0 0;\n",
              "      width: 32px;\n",
              "    }\n",
              "\n",
              "    .colab-df-convert:hover {\n",
              "      background-color: #E2EBFA;\n",
              "      box-shadow: 0px 1px 2px rgba(60, 64, 67, 0.3), 0px 1px 3px 1px rgba(60, 64, 67, 0.15);\n",
              "      fill: #174EA6;\n",
              "    }\n",
              "\n",
              "    .colab-df-buttons div {\n",
              "      margin-bottom: 4px;\n",
              "    }\n",
              "\n",
              "    [theme=dark] .colab-df-convert {\n",
              "      background-color: #3B4455;\n",
              "      fill: #D2E3FC;\n",
              "    }\n",
              "\n",
              "    [theme=dark] .colab-df-convert:hover {\n",
              "      background-color: #434B5C;\n",
              "      box-shadow: 0px 1px 3px 1px rgba(0, 0, 0, 0.15);\n",
              "      filter: drop-shadow(0px 1px 2px rgba(0, 0, 0, 0.3));\n",
              "      fill: #FFFFFF;\n",
              "    }\n",
              "  </style>\n",
              "\n",
              "    <script>\n",
              "      const buttonEl =\n",
              "        document.querySelector('#df-aa67a1d3-9809-4846-9cc1-2b79b70e5a0e button.colab-df-convert');\n",
              "      buttonEl.style.display =\n",
              "        google.colab.kernel.accessAllowed ? 'block' : 'none';\n",
              "\n",
              "      async function convertToInteractive(key) {\n",
              "        const element = document.querySelector('#df-aa67a1d3-9809-4846-9cc1-2b79b70e5a0e');\n",
              "        const dataTable =\n",
              "          await google.colab.kernel.invokeFunction('convertToInteractive',\n",
              "                                                    [key], {});\n",
              "        if (!dataTable) return;\n",
              "\n",
              "        const docLinkHtml = 'Like what you see? Visit the ' +\n",
              "          '<a target=\"_blank\" href=https://colab.research.google.com/notebooks/data_table.ipynb>data table notebook</a>'\n",
              "          + ' to learn more about interactive tables.';\n",
              "        element.innerHTML = '';\n",
              "        dataTable['output_type'] = 'display_data';\n",
              "        await google.colab.output.renderOutput(dataTable, element);\n",
              "        const docLink = document.createElement('div');\n",
              "        docLink.innerHTML = docLinkHtml;\n",
              "        element.appendChild(docLink);\n",
              "      }\n",
              "    </script>\n",
              "  </div>\n",
              "\n",
              "\n",
              "<div id=\"df-8fb11c75-404d-44d3-9cdb-671444cc05a1\">\n",
              "  <button class=\"colab-df-quickchart\" onclick=\"quickchart('df-8fb11c75-404d-44d3-9cdb-671444cc05a1')\"\n",
              "            title=\"Suggest charts\"\n",
              "            style=\"display:none;\">\n",
              "\n",
              "<svg xmlns=\"http://www.w3.org/2000/svg\" height=\"24px\"viewBox=\"0 0 24 24\"\n",
              "     width=\"24px\">\n",
              "    <g>\n",
              "        <path d=\"M19 3H5c-1.1 0-2 .9-2 2v14c0 1.1.9 2 2 2h14c1.1 0 2-.9 2-2V5c0-1.1-.9-2-2-2zM9 17H7v-7h2v7zm4 0h-2V7h2v10zm4 0h-2v-4h2v4z\"/>\n",
              "    </g>\n",
              "</svg>\n",
              "  </button>\n",
              "\n",
              "<style>\n",
              "  .colab-df-quickchart {\n",
              "      --bg-color: #E8F0FE;\n",
              "      --fill-color: #1967D2;\n",
              "      --hover-bg-color: #E2EBFA;\n",
              "      --hover-fill-color: #174EA6;\n",
              "      --disabled-fill-color: #AAA;\n",
              "      --disabled-bg-color: #DDD;\n",
              "  }\n",
              "\n",
              "  [theme=dark] .colab-df-quickchart {\n",
              "      --bg-color: #3B4455;\n",
              "      --fill-color: #D2E3FC;\n",
              "      --hover-bg-color: #434B5C;\n",
              "      --hover-fill-color: #FFFFFF;\n",
              "      --disabled-bg-color: #3B4455;\n",
              "      --disabled-fill-color: #666;\n",
              "  }\n",
              "\n",
              "  .colab-df-quickchart {\n",
              "    background-color: var(--bg-color);\n",
              "    border: none;\n",
              "    border-radius: 50%;\n",
              "    cursor: pointer;\n",
              "    display: none;\n",
              "    fill: var(--fill-color);\n",
              "    height: 32px;\n",
              "    padding: 0;\n",
              "    width: 32px;\n",
              "  }\n",
              "\n",
              "  .colab-df-quickchart:hover {\n",
              "    background-color: var(--hover-bg-color);\n",
              "    box-shadow: 0 1px 2px rgba(60, 64, 67, 0.3), 0 1px 3px 1px rgba(60, 64, 67, 0.15);\n",
              "    fill: var(--button-hover-fill-color);\n",
              "  }\n",
              "\n",
              "  .colab-df-quickchart-complete:disabled,\n",
              "  .colab-df-quickchart-complete:disabled:hover {\n",
              "    background-color: var(--disabled-bg-color);\n",
              "    fill: var(--disabled-fill-color);\n",
              "    box-shadow: none;\n",
              "  }\n",
              "\n",
              "  .colab-df-spinner {\n",
              "    border: 2px solid var(--fill-color);\n",
              "    border-color: transparent;\n",
              "    border-bottom-color: var(--fill-color);\n",
              "    animation:\n",
              "      spin 1s steps(1) infinite;\n",
              "  }\n",
              "\n",
              "  @keyframes spin {\n",
              "    0% {\n",
              "      border-color: transparent;\n",
              "      border-bottom-color: var(--fill-color);\n",
              "      border-left-color: var(--fill-color);\n",
              "    }\n",
              "    20% {\n",
              "      border-color: transparent;\n",
              "      border-left-color: var(--fill-color);\n",
              "      border-top-color: var(--fill-color);\n",
              "    }\n",
              "    30% {\n",
              "      border-color: transparent;\n",
              "      border-left-color: var(--fill-color);\n",
              "      border-top-color: var(--fill-color);\n",
              "      border-right-color: var(--fill-color);\n",
              "    }\n",
              "    40% {\n",
              "      border-color: transparent;\n",
              "      border-right-color: var(--fill-color);\n",
              "      border-top-color: var(--fill-color);\n",
              "    }\n",
              "    60% {\n",
              "      border-color: transparent;\n",
              "      border-right-color: var(--fill-color);\n",
              "    }\n",
              "    80% {\n",
              "      border-color: transparent;\n",
              "      border-right-color: var(--fill-color);\n",
              "      border-bottom-color: var(--fill-color);\n",
              "    }\n",
              "    90% {\n",
              "      border-color: transparent;\n",
              "      border-bottom-color: var(--fill-color);\n",
              "    }\n",
              "  }\n",
              "</style>\n",
              "\n",
              "  <script>\n",
              "    async function quickchart(key) {\n",
              "      const quickchartButtonEl =\n",
              "        document.querySelector('#' + key + ' button');\n",
              "      quickchartButtonEl.disabled = true;  // To prevent multiple clicks.\n",
              "      quickchartButtonEl.classList.add('colab-df-spinner');\n",
              "      try {\n",
              "        const charts = await google.colab.kernel.invokeFunction(\n",
              "            'suggestCharts', [key], {});\n",
              "      } catch (error) {\n",
              "        console.error('Error during call to suggestCharts:', error);\n",
              "      }\n",
              "      quickchartButtonEl.classList.remove('colab-df-spinner');\n",
              "      quickchartButtonEl.classList.add('colab-df-quickchart-complete');\n",
              "    }\n",
              "    (() => {\n",
              "      let quickchartButtonEl =\n",
              "        document.querySelector('#df-8fb11c75-404d-44d3-9cdb-671444cc05a1 button');\n",
              "      quickchartButtonEl.style.display =\n",
              "        google.colab.kernel.accessAllowed ? 'block' : 'none';\n",
              "    })();\n",
              "  </script>\n",
              "</div>\n",
              "\n",
              "    </div>\n",
              "  </div>\n"
            ],
            "application/vnd.google.colaboratory.intrinsic+json": {
              "type": "dataframe",
              "summary": "{\n  \"name\": \"data\",\n  \"rows\": 5,\n  \"fields\": [\n    {\n      \"column\": \"count\",\n      \"properties\": {\n        \"dtype\": \"number\",\n        \"std\": 0.0,\n        \"min\": 150.0,\n        \"max\": 150.0,\n        \"num_unique_values\": 1,\n        \"samples\": [\n          150.0\n        ],\n        \"semantic_type\": \"\",\n        \"description\": \"\"\n      }\n    },\n    {\n      \"column\": \"mean\",\n      \"properties\": {\n        \"dtype\": \"number\",\n        \"std\": 32.25846612252011,\n        \"min\": 1.1986666666666668,\n        \"max\": 75.5,\n        \"num_unique_values\": 5,\n        \"samples\": [\n          5.843333333333334\n        ],\n        \"semantic_type\": \"\",\n        \"description\": \"\"\n      }\n    },\n    {\n      \"column\": \"std\",\n      \"properties\": {\n        \"dtype\": \"number\",\n        \"std\": 19.012151525971746,\n        \"min\": 0.4335943113621737,\n        \"max\": 43.445367992456916,\n        \"num_unique_values\": 5,\n        \"samples\": [\n          0.8280661279778629\n        ],\n        \"semantic_type\": \"\",\n        \"description\": \"\"\n      }\n    },\n    {\n      \"column\": \"min\",\n      \"properties\": {\n        \"dtype\": \"number\",\n        \"std\": 1.6115210206509873,\n        \"min\": 0.1,\n        \"max\": 4.3,\n        \"num_unique_values\": 4,\n        \"samples\": [\n          4.3\n        ],\n        \"semantic_type\": \"\",\n        \"description\": \"\"\n      }\n    },\n    {\n      \"column\": \"25%\",\n      \"properties\": {\n        \"dtype\": \"number\",\n        \"std\": 16.10746721244529,\n        \"min\": 0.3,\n        \"max\": 38.25,\n        \"num_unique_values\": 5,\n        \"samples\": [\n          5.1\n        ],\n        \"semantic_type\": \"\",\n        \"description\": \"\"\n      }\n    },\n    {\n      \"column\": \"50%\",\n      \"properties\": {\n        \"dtype\": \"number\",\n        \"std\": 32.1920098782291,\n        \"min\": 1.3,\n        \"max\": 75.5,\n        \"num_unique_values\": 5,\n        \"samples\": [\n          5.8\n        ],\n        \"semantic_type\": \"\",\n        \"description\": \"\"\n      }\n    },\n    {\n      \"column\": \"75%\",\n      \"properties\": {\n        \"dtype\": \"number\",\n        \"std\": 48.598811713868066,\n        \"min\": 1.8,\n        \"max\": 112.75,\n        \"num_unique_values\": 5,\n        \"samples\": [\n          6.4\n        ],\n        \"semantic_type\": \"\",\n        \"description\": \"\"\n      }\n    },\n    {\n      \"column\": \"max\",\n      \"properties\": {\n        \"dtype\": \"number\",\n        \"std\": 64.6905170793989,\n        \"min\": 2.5,\n        \"max\": 150.0,\n        \"num_unique_values\": 5,\n        \"samples\": [\n          7.9\n        ],\n        \"semantic_type\": \"\",\n        \"description\": \"\"\n      }\n    }\n  ]\n}"
            }
          },
          "metadata": {},
          "execution_count": 5
        }
      ]
    },
    {
      "cell_type": "code",
      "source": [
        "for features in data.columns[2:]:\n",
        "  sns.displot(data[features], kde=True)"
      ],
      "metadata": {
        "colab": {
          "base_uri": "https://localhost:8080/",
          "height": 1000
        },
        "id": "fObXheU2bhCQ",
        "outputId": "caf7cb89-dba3-4e5f-8dcd-2f2d6fbb66ec"
      },
      "execution_count": 6,
      "outputs": [
        {
          "output_type": "display_data",
          "data": {
            "text/plain": [
              "<Figure size 500x500 with 1 Axes>"
            ],
            "image/png": "[encoded data removed]"
          },
          "metadata": {}
        },
        {
          "output_type": "display_data",
          "data": {
            "text/plain": [
              "<Figure size 500x500 with 1 Axes>"
            ],
            "image/png": "[encoded data removed]"
          },
          "metadata": {}
        },
        {
          "output_type": "display_data",
          "data": {
            "text/plain": [
              "<Figure size 500x500 with 1 Axes>"
            ],
            "image/png": "[encoded data removed]"
          },
          "metadata": {}
        },
        {
          "output_type": "display_data",
          "data": {
            "text/plain": [
              "<Figure size 500x500 with 1 Axes>"
            ],
            "image/png": "[encoded data removed]"
          },
          "metadata": {}
        }
      ]
    },
    {
      "cell_type": "markdown",
      "source": [
        "Performing label encoding on Species"
      ],
      "metadata": {
        "id": "1Q-76YyNcYUq"
      }
    },
    {
      "cell_type": "code",
      "source": [
        "from sklearn.preprocessing import LabelEncoder\n",
        "label = LabelEncoder()\n",
        "data['Species']=label.fit_transform(data['Species'])"
      ],
      "metadata": {
        "id": "hC3GRczWbkCn"
      },
      "execution_count": 7,
      "outputs": []
    },
    {
      "cell_type": "code",
      "source": [
        "data.head()"
      ],
      "metadata": {
        "colab": {
          "base_uri": "https://localhost:8080/",
          "height": 206
        },
        "id": "VabStUDEc5dt",
        "outputId": "9c660eb6-930b-4735-c0d7-e7bd7bcd615c"
      },
      "execution_count": 8,
      "outputs": [
        {
          "output_type": "execute_result",
          "data": {
            "text/plain": [
              "   Id  SepalLengthCm  SepalWidthCm  PetalLengthCm  PetalWidthCm  Species\n",
              "0   1            5.1           3.5            1.4           0.2        0\n",
              "1   2            4.9           3.0            1.4           0.2        0\n",
              "2   3            4.7           3.2            1.3           0.2        0\n",
              "3   4            4.6           3.1            1.5           0.2        0\n",
              "4   5            5.0           3.6            1.4           0.2        0"
            ],
            "text/html": [
              "\n",
              "  <div id=\"df-043750a1-62a3-446c-b743-5fc68c58217f\" class=\"colab-df-container\">\n",
              "    <div>\n",
              "<style scoped>\n",
              "    .dataframe tbody tr th:only-of-type {\n",
              "        vertical-align: middle;\n",
              "    }\n",
              "\n",
              "    .dataframe tbody tr th {\n",
              "        vertical-align: top;\n",
              "    }\n",
              "\n",
              "    .dataframe thead th {\n",
              "        text-align: right;\n",
              "    }\n",
              "</style>\n",
              "<table border=\"1\" class=\"dataframe\">\n",
              "  <thead>\n",
              "    <tr style=\"text-align: right;\">\n",
              "      <th></th>\n",
              "      <th>Id</th>\n",
              "      <th>SepalLengthCm</th>\n",
              "      <th>SepalWidthCm</th>\n",
              "      <th>PetalLengthCm</th>\n",
              "      <th>PetalWidthCm</th>\n",
              "      <th>Species</th>\n",
              "    </tr>\n",
              "  </thead>\n",
              "  <tbody>\n",
              "    <tr>\n",
              "      <th>0</th>\n",
              "      <td>1</td>\n",
              "      <td>5.1</td>\n",
              "      <td>3.5</td>\n",
              "      <td>1.4</td>\n",
              "      <td>0.2</td>\n",
              "      <td>0</td>\n",
              "    </tr>\n",
              "    <tr>\n",
              "      <th>1</th>\n",
              "      <td>2</td>\n",
              "      <td>4.9</td>\n",
              "      <td>3.0</td>\n",
              "      <td>1.4</td>\n",
              "      <td>0.2</td>\n",
              "      <td>0</td>\n",
              "    </tr>\n",
              "    <tr>\n",
              "      <th>2</th>\n",
              "      <td>3</td>\n",
              "      <td>4.7</td>\n",
              "      <td>3.2</td>\n",
              "      <td>1.3</td>\n",
              "      <td>0.2</td>\n",
              "      <td>0</td>\n",
              "    </tr>\n",
              "    <tr>\n",
              "      <th>3</th>\n",
              "      <td>4</td>\n",
              "      <td>4.6</td>\n",
              "      <td>3.1</td>\n",
              "      <td>1.5</td>\n",
              "      <td>0.2</td>\n",
              "      <td>0</td>\n",
              "    </tr>\n",
              "    <tr>\n",
              "      <th>4</th>\n",
              "      <td>5</td>\n",
              "      <td>5.0</td>\n",
              "      <td>3.6</td>\n",
              "      <td>1.4</td>\n",
              "      <td>0.2</td>\n",
              "      <td>0</td>\n",
              "    </tr>\n",
              "  </tbody>\n",
              "</table>\n",
              "</div>\n",
              "    <div class=\"colab-df-buttons\">\n",
              "\n",
              "  <div class=\"colab-df-container\">\n",
              "    <button class=\"colab-df-convert\" onclick=\"convertToInteractive('df-043750a1-62a3-446c-b743-5fc68c58217f')\"\n",
              "            title=\"Convert this dataframe to an interactive table.\"\n",
              "            style=\"display:none;\">\n",
              "\n",
              "  <svg xmlns=\"http://www.w3.org/2000/svg\" height=\"24px\" viewBox=\"0 -960 960 960\">\n",
              "    <path d=\"M120-120v-720h720v720H120Zm60-500h600v-160H180v160Zm220 220h160v-160H400v160Zm0 220h160v-160H400v160ZM180-400h160v-160H180v160Zm440 0h160v-160H620v160ZM180-180h160v-160H180v160Zm440 0h160v-160H620v160Z\"/>\n",
              "  </svg>\n",
              "    </button>\n",
              "\n",
              "  <style>\n",
              "    .colab-df-container {\n",
              "      display:flex;\n",
              "      gap: 12px;\n",
              "    }\n",
              "\n",
              "    .colab-df-convert {\n",
              "      background-color: #E8F0FE;\n",
              "      border: none;\n",
              "      border-radius: 50%;\n",
              "      cursor: pointer;\n",
              "      display: none;\n",
              "      fill: #1967D2;\n",
              "      height: 32px;\n",
              "      padding: 0 0 0 0;\n",
              "      width: 32px;\n",
              "    }\n",
              "\n",
              "    .colab-df-convert:hover {\n",
              "      background-color: #E2EBFA;\n",
              "      box-shadow: 0px 1px 2px rgba(60, 64, 67, 0.3), 0px 1px 3px 1px rgba(60, 64, 67, 0.15);\n",
              "      fill: #174EA6;\n",
              "    }\n",
              "\n",
              "    .colab-df-buttons div {\n",
              "      margin-bottom: 4px;\n",
              "    }\n",
              "\n",
              "    [theme=dark] .colab-df-convert {\n",
              "      background-color: #3B4455;\n",
              "      fill: #D2E3FC;\n",
              "    }\n",
              "\n",
              "    [theme=dark] .colab-df-convert:hover {\n",
              "      background-color: #434B5C;\n",
              "      box-shadow: 0px 1px 3px 1px rgba(0, 0, 0, 0.15);\n",
              "      filter: drop-shadow(0px 1px 2px rgba(0, 0, 0, 0.3));\n",
              "      fill: #FFFFFF;\n",
              "    }\n",
              "  </style>\n",
              "\n",
              "    <script>\n",
              "      const buttonEl =\n",
              "        document.querySelector('#df-043750a1-62a3-446c-b743-5fc68c58217f button.colab-df-convert');\n",
              "      buttonEl.style.display =\n",
              "        google.colab.kernel.accessAllowed ? 'block' : 'none';\n",
              "\n",
              "      async function convertToInteractive(key) {\n",
              "        const element = document.querySelector('#df-043750a1-62a3-446c-b743-5fc68c58217f');\n",
              "        const dataTable =\n",
              "          await google.colab.kernel.invokeFunction('convertToInteractive',\n",
              "                                                    [key], {});\n",
              "        if (!dataTable) return;\n",
              "\n",
              "        const docLinkHtml = 'Like what you see? Visit the ' +\n",
              "          '<a target=\"_blank\" href=https://colab.research.google.com/notebooks/data_table.ipynb>data table notebook</a>'\n",
              "          + ' to learn more about interactive tables.';\n",
              "        element.innerHTML = '';\n",
              "        dataTable['output_type'] = 'display_data';\n",
              "        await google.colab.output.renderOutput(dataTable, element);\n",
              "        const docLink = document.createElement('div');\n",
              "        docLink.innerHTML = docLinkHtml;\n",
              "        element.appendChild(docLink);\n",
              "      }\n",
              "    </script>\n",
              "  </div>\n",
              "\n",
              "\n",
              "<div id=\"df-250a9702-9335-450e-aa3c-d23893acb53e\">\n",
              "  <button class=\"colab-df-quickchart\" onclick=\"quickchart('df-250a9702-9335-450e-aa3c-d23893acb53e')\"\n",
              "            title=\"Suggest charts\"\n",
              "            style=\"display:none;\">\n",
              "\n",
              "<svg xmlns=\"http://www.w3.org/2000/svg\" height=\"24px\"viewBox=\"0 0 24 24\"\n",
              "     width=\"24px\">\n",
              "    <g>\n",
              "        <path d=\"M19 3H5c-1.1 0-2 .9-2 2v14c0 1.1.9 2 2 2h14c1.1 0 2-.9 2-2V5c0-1.1-.9-2-2-2zM9 17H7v-7h2v7zm4 0h-2V7h2v10zm4 0h-2v-4h2v4z\"/>\n",
              "    </g>\n",
              "</svg>\n",
              "  </button>\n",
              "\n",
              "<style>\n",
              "  .colab-df-quickchart {\n",
              "      --bg-color: #E8F0FE;\n",
              "      --fill-color: #1967D2;\n",
              "      --hover-bg-color: #E2EBFA;\n",
              "      --hover-fill-color: #174EA6;\n",
              "      --disabled-fill-color: #AAA;\n",
              "      --disabled-bg-color: #DDD;\n",
              "  }\n",
              "\n",
              "  [theme=dark] .colab-df-quickchart {\n",
              "      --bg-color: #3B4455;\n",
              "      --fill-color: #D2E3FC;\n",
              "      --hover-bg-color: #434B5C;\n",
              "      --hover-fill-color: #FFFFFF;\n",
              "      --disabled-bg-color: #3B4455;\n",
              "      --disabled-fill-color: #666;\n",
              "  }\n",
              "\n",
              "  .colab-df-quickchart {\n",
              "    background-color: var(--bg-color);\n",
              "    border: none;\n",
              "    border-radius: 50%;\n",
              "    cursor: pointer;\n",
              "    display: none;\n",
              "    fill: var(--fill-color);\n",
              "    height: 32px;\n",
              "    padding: 0;\n",
              "    width: 32px;\n",
              "  }\n",
              "\n",
              "  .colab-df-quickchart:hover {\n",
              "    background-color: var(--hover-bg-color);\n",
              "    box-shadow: 0 1px 2px rgba(60, 64, 67, 0.3), 0 1px 3px 1px rgba(60, 64, 67, 0.15);\n",
              "    fill: var(--button-hover-fill-color);\n",
              "  }\n",
              "\n",
              "  .colab-df-quickchart-complete:disabled,\n",
              "  .colab-df-quickchart-complete:disabled:hover {\n",
              "    background-color: var(--disabled-bg-color);\n",
              "    fill: var(--disabled-fill-color);\n",
              "    box-shadow: none;\n",
              "  }\n",
              "\n",
              "  .colab-df-spinner {\n",
              "    border: 2px solid var(--fill-color);\n",
              "    border-color: transparent;\n",
              "    border-bottom-color: var(--fill-color);\n",
              "    animation:\n",
              "      spin 1s steps(1) infinite;\n",
              "  }\n",
              "\n",
              "  @keyframes spin {\n",
              "    0% {\n",
              "      border-color: transparent;\n",
              "      border-bottom-color: var(--fill-color);\n",
              "      border-left-color: var(--fill-color);\n",
              "    }\n",
              "    20% {\n",
              "      border-color: transparent;\n",
              "      border-left-color: var(--fill-color);\n",
              "      border-top-color: var(--fill-color);\n",
              "    }\n",
              "    30% {\n",
              "      border-color: transparent;\n",
              "      border-left-color: var(--fill-color);\n",
              "      border-top-color: var(--fill-color);\n",
              "      border-right-color: var(--fill-color);\n",
              "    }\n",
              "    40% {\n",
              "      border-color: transparent;\n",
              "      border-right-color: var(--fill-color);\n",
              "      border-top-color: var(--fill-color);\n",
              "    }\n",
              "    60% {\n",
              "      border-color: transparent;\n",
              "      border-right-color: var(--fill-color);\n",
              "    }\n",
              "    80% {\n",
              "      border-color: transparent;\n",
              "      border-right-color: var(--fill-color);\n",
              "      border-bottom-color: var(--fill-color);\n",
              "    }\n",
              "    90% {\n",
              "      border-color: transparent;\n",
              "      border-bottom-color: var(--fill-color);\n",
              "    }\n",
              "  }\n",
              "</style>\n",
              "\n",
              "  <script>\n",
              "    async function quickchart(key) {\n",
              "      const quickchartButtonEl =\n",
              "        document.querySelector('#' + key + ' button');\n",
              "      quickchartButtonEl.disabled = true;  // To prevent multiple clicks.\n",
              "      quickchartButtonEl.classList.add('colab-df-spinner');\n",
              "      try {\n",
              "        const charts = await google.colab.kernel.invokeFunction(\n",
              "            'suggestCharts', [key], {});\n",
              "      } catch (error) {\n",
              "        console.error('Error during call to suggestCharts:', error);\n",
              "      }\n",
              "      quickchartButtonEl.classList.remove('colab-df-spinner');\n",
              "      quickchartButtonEl.classList.add('colab-df-quickchart-complete');\n",
              "    }\n",
              "    (() => {\n",
              "      let quickchartButtonEl =\n",
              "        document.querySelector('#df-250a9702-9335-450e-aa3c-d23893acb53e button');\n",
              "      quickchartButtonEl.style.display =\n",
              "        google.colab.kernel.accessAllowed ? 'block' : 'none';\n",
              "    })();\n",
              "  </script>\n",
              "</div>\n",
              "\n",
              "    </div>\n",
              "  </div>\n"
            ],
            "application/vnd.google.colaboratory.intrinsic+json": {
              "type": "dataframe",
              "variable_name": "data",
              "summary": "{\n  \"name\": \"data\",\n  \"rows\": 150,\n  \"fields\": [\n    {\n      \"column\": \"Id\",\n      \"properties\": {\n        \"dtype\": \"number\",\n        \"std\": 43,\n        \"min\": 1,\n        \"max\": 150,\n        \"num_unique_values\": 150,\n        \"samples\": [\n          74,\n          19,\n          119\n        ],\n        \"semantic_type\": \"\",\n        \"description\": \"\"\n      }\n    },\n    {\n      \"column\": \"SepalLengthCm\",\n      \"properties\": {\n        \"dtype\": \"number\",\n        \"std\": 0.8280661279778629,\n        \"min\": 4.3,\n        \"max\": 7.9,\n        \"num_unique_values\": 35,\n        \"samples\": [\n          6.2,\n          4.5,\n          5.6\n        ],\n        \"semantic_type\": \"\",\n        \"description\": \"\"\n      }\n    },\n    {\n      \"column\": \"SepalWidthCm\",\n      \"properties\": {\n        \"dtype\": \"number\",\n        \"std\": 0.4335943113621737,\n        \"min\": 2.0,\n        \"max\": 4.4,\n        \"num_unique_values\": 23,\n        \"samples\": [\n          2.3,\n          4.0,\n          3.5\n        ],\n        \"semantic_type\": \"\",\n        \"description\": \"\"\n      }\n    },\n    {\n      \"column\": \"PetalLengthCm\",\n      \"properties\": {\n        \"dtype\": \"number\",\n        \"std\": 1.7644204199522617,\n        \"min\": 1.0,\n        \"max\": 6.9,\n        \"num_unique_values\": 43,\n        \"samples\": [\n          6.7,\n          3.8,\n          3.7\n        ],\n        \"semantic_type\": \"\",\n        \"description\": \"\"\n      }\n    },\n    {\n      \"column\": \"PetalWidthCm\",\n      \"properties\": {\n        \"dtype\": \"number\",\n        \"std\": 0.7631607417008414,\n        \"min\": 0.1,\n        \"max\": 2.5,\n        \"num_unique_values\": 22,\n        \"samples\": [\n          0.2,\n          1.2,\n          1.3\n        ],\n        \"semantic_type\": \"\",\n        \"description\": \"\"\n      }\n    },\n    {\n      \"column\": \"Species\",\n      \"properties\": {\n        \"dtype\": \"number\",\n        \"std\": 0,\n        \"min\": 0,\n        \"max\": 2,\n        \"num_unique_values\": 3,\n        \"samples\": [\n          0,\n          1,\n          2\n        ],\n        \"semantic_type\": \"\",\n        \"description\": \"\"\n      }\n    }\n  ]\n}"
            }
          },
          "metadata": {},
          "execution_count": 8
        }
      ]
    },
    {
      "cell_type": "code",
      "source": [
        "dict(zip(label.classes_, label.transform(label.classes_)))"
      ],
      "metadata": {
        "colab": {
          "base_uri": "https://localhost:8080/"
        },
        "id": "ExpZMOH_dOF6",
        "outputId": "61389a70-960d-4034-c75a-8a268183d0c7"
      },
      "execution_count": 9,
      "outputs": [
        {
          "output_type": "execute_result",
          "data": {
            "text/plain": [
              "{'Iris-setosa': 0, 'Iris-versicolor': 1, 'Iris-virginica': 2}"
            ]
          },
          "metadata": {},
          "execution_count": 9
        }
      ]
    },
    {
      "cell_type": "code",
      "source": [
        "data['Species'].value_counts()"
      ],
      "metadata": {
        "colab": {
          "base_uri": "https://localhost:8080/",
          "height": 209
        },
        "id": "MhvJlPTpcsoB",
        "outputId": "08b6320c-a042-4b20-84c4-6c36b6bae4b4"
      },
      "execution_count": 10,
      "outputs": [
        {
          "output_type": "execute_result",
          "data": {
            "text/plain": [
              "Species\n",
              "0    50\n",
              "1    50\n",
              "2    50\n",
              "Name: count, dtype: int64"
            ],
            "text/html": [
              "<div>\n",
              "<style scoped>\n",
              "    .dataframe tbody tr th:only-of-type {\n",
              "        vertical-align: middle;\n",
              "    }\n",
              "\n",
              "    .dataframe tbody tr th {\n",
              "        vertical-align: top;\n",
              "    }\n",
              "\n",
              "    .dataframe thead th {\n",
              "        text-align: right;\n",
              "    }\n",
              "</style>\n",
              "<table border=\"1\" class=\"dataframe\">\n",
              "  <thead>\n",
              "    <tr style=\"text-align: right;\">\n",
              "      <th></th>\n",
              "      <th>count</th>\n",
              "    </tr>\n",
              "    <tr>\n",
              "      <th>Species</th>\n",
              "      <th></th>\n",
              "    </tr>\n",
              "  </thead>\n",
              "  <tbody>\n",
              "    <tr>\n",
              "      <th>0</th>\n",
              "      <td>50</td>\n",
              "    </tr>\n",
              "    <tr>\n",
              "      <th>1</th>\n",
              "      <td>50</td>\n",
              "    </tr>\n",
              "    <tr>\n",
              "      <th>2</th>\n",
              "      <td>50</td>\n",
              "    </tr>\n",
              "  </tbody>\n",
              "</table>\n",
              "</div><br><label><b>dtype:</b> int64</label>"
            ]
          },
          "metadata": {},
          "execution_count": 10
        }
      ]
    },
    {
      "cell_type": "markdown",
      "source": [
        "Splitting the data for trainig and testing"
      ],
      "metadata": {
        "id": "93rXl1xUehxM"
      }
    },
    {
      "cell_type": "code",
      "source": [
        "data.columns"
      ],
      "metadata": {
        "colab": {
          "base_uri": "https://localhost:8080/"
        },
        "id": "JqIgP2tIeqTg",
        "outputId": "5cbdfcab-b81d-4216-9a1b-2cf81629fe64"
      },
      "execution_count": 11,
      "outputs": [
        {
          "output_type": "execute_result",
          "data": {
            "text/plain": [
              "Index(['Id', 'SepalLengthCm', 'SepalWidthCm', 'PetalLengthCm', 'PetalWidthCm',\n",
              "       'Species'],\n",
              "      dtype='object')"
            ]
          },
          "metadata": {},
          "execution_count": 11
        }
      ]
    },
    {
      "cell_type": "code",
      "source": [
        "X = data.drop(['Id','Species'],axis=1)\n",
        "y = data['Species']"
      ],
      "metadata": {
        "id": "UtmOgCQ_dqVB"
      },
      "execution_count": 12,
      "outputs": []
    },
    {
      "cell_type": "code",
      "source": [
        "from sklearn.model_selection import train_test_split\n",
        "x_train, x_test, y_train, y_test = train_test_split(X, y, test_size=0.3, shuffle=True, random_state=69)"
      ],
      "metadata": {
        "id": "rzF0_mjEexqY"
      },
      "execution_count": 59,
      "outputs": []
    },
    {
      "cell_type": "code",
      "source": [
        "x_train.shape"
      ],
      "metadata": {
        "colab": {
          "base_uri": "https://localhost:8080/"
        },
        "id": "MkfAXgvkfBEx",
        "outputId": "a914f084-68aa-4a17-e045-ef5a2a76b489"
      },
      "execution_count": 14,
      "outputs": [
        {
          "output_type": "execute_result",
          "data": {
            "text/plain": [
              "(105, 4)"
            ]
          },
          "metadata": {},
          "execution_count": 14
        }
      ]
    },
    {
      "cell_type": "code",
      "source": [
        "from sklearn.preprocessing import StandardScaler\n",
        "scaler = StandardScaler()\n",
        "X_train = scaler.fit_transform(x_train)\n",
        "X_test = scaler.transform(x_test)"
      ],
      "metadata": {
        "id": "t-WdZvF8fDi3"
      },
      "execution_count": 15,
      "outputs": []
    },
    {
      "cell_type": "code",
      "source": [
        "import tensorflow as tf\n",
        "from tensorflow.keras.models import Sequential\n",
        "from tensorflow.keras.layers import Dense\n",
        "from tensorflow.keras.optimizers import Adam"
      ],
      "metadata": {
        "id": "GfoLUv2NmHWk"
      },
      "execution_count": 16,
      "outputs": []
    },
    {
      "cell_type": "code",
      "source": [
        "y_train = tf.keras.utils.to_categorical(y_train, num_classes=3)\n",
        "y_train[:10]"
      ],
      "metadata": {
        "colab": {
          "base_uri": "https://localhost:8080/"
        },
        "id": "iPMNtZjNkkBU",
        "outputId": "6353c4ae-144e-4454-c9a2-81fc59a9bfbc"
      },
      "execution_count": 65,
      "outputs": [
        {
          "output_type": "execute_result",
          "data": {
            "text/plain": [
              "array([[0., 1., 0.],\n",
              "       [0., 0., 1.],\n",
              "       [0., 1., 0.],\n",
              "       [0., 1., 0.],\n",
              "       [0., 1., 0.],\n",
              "       [0., 0., 1.],\n",
              "       [1., 0., 0.],\n",
              "       [0., 1., 0.],\n",
              "       [0., 0., 1.],\n",
              "       [0., 0., 1.]])"
            ]
          },
          "metadata": {},
          "execution_count": 65
        }
      ]
    },
    {
      "cell_type": "code",
      "source": [
        "X_train.shape[-1]"
      ],
      "metadata": {
        "colab": {
          "base_uri": "https://localhost:8080/"
        },
        "id": "ybvmCzEUklNe",
        "outputId": "56ba27b7-2fec-4303-edfa-ed38aead9d7e"
      },
      "execution_count": 18,
      "outputs": [
        {
          "output_type": "execute_result",
          "data": {
            "text/plain": [
              "4"
            ]
          },
          "metadata": {},
          "execution_count": 18
        }
      ]
    },
    {
      "cell_type": "code",
      "source": [
        "from tensorflow.keras.models import Sequential\n",
        "from tensorflow.keras.layers import Dense, Dropout\n",
        "from tensorflow.keras.optimizers import Adam"
      ],
      "metadata": {
        "id": "jz8zBrnPLRq-"
      },
      "execution_count": 19,
      "outputs": []
    },
    {
      "cell_type": "code",
      "source": [
        "model = Sequential()\n",
        "model.add(Dense(units=32, activation='relu', input_shape=(X_train.shape[-1],)))\n",
        "model.add(Dense(units=32, activation='relu'))\n",
        "model.add(Dropout(0.5))\n",
        "model.add(Dense(units=3, activation='softmax'))"
      ],
      "metadata": {
        "colab": {
          "base_uri": "https://localhost:8080/"
        },
        "id": "QtUid92fLxLO",
        "outputId": "e3cf737b-9b75-4b10-8c71-0b69c42beb4c"
      },
      "execution_count": 20,
      "outputs": [
        {
          "output_type": "stream",
          "name": "stderr",
          "text": [
            "/usr/local/lib/python3.11/dist-packages/keras/src/layers/core/dense.py:87: UserWarning: Do not pass an `input_shape`/`input_dim` argument to a layer. When using Sequential models, prefer using an `Input(shape)` object as the first layer in the model instead.\n",
            "  super().__init__(activity_regularizer=activity_regularizer, **kwargs)\n"
          ]
        }
      ]
    },
    {
      "cell_type": "code",
      "source": [
        "model.compile(optimizer='adam', loss='categorical_crossentropy', metrics=['accuracy'])\n",
        "model.summary()"
      ],
      "metadata": {
        "colab": {
          "base_uri": "https://localhost:8080/",
          "height": 272
        },
        "id": "gnjNgR1CM9sZ",
        "outputId": "6d6b3f69-8f44-48f3-a9cb-eac061cbdf8f"
      },
      "execution_count": 21,
      "outputs": [
        {
          "output_type": "display_data",
          "data": {
            "text/plain": [
              "\u001b[1mModel: \"sequential\"\u001b[0m\n"
            ],
            "text/html": [
              "<pre style=\"white-space:pre;overflow-x:auto;line-height:normal;font-family:Menlo,'DejaVu Sans Mono',consolas,'Courier New',monospace\"><span style=\"font-weight: bold\">Model: \"sequential\"</span>\n",
              "</pre>\n"
            ]
          },
          "metadata": {}
        },
        {
          "output_type": "display_data",
          "data": {
            "text/plain": [
              "┏━━━━━━━━━━━━━━━━━━━━━━━━━━━━━━━━━━━━━━┳━━━━━━━━━━━━━━━━━━━━━━━━━━━━━┳━━━━━━━━━━━━━━━━━┓\n",
              "┃\u001b[1m \u001b[0m\u001b[1mLayer (type)                        \u001b[0m\u001b[1m \u001b[0m┃\u001b[1m \u001b[0m\u001b[1mOutput Shape               \u001b[0m\u001b[1m \u001b[0m┃\u001b[1m \u001b[0m\u001b[1m        Param #\u001b[0m\u001b[1m \u001b[0m┃\n",
              "┡━━━━━━━━━━━━━━━━━━━━━━━━━━━━━━━━━━━━━━╇━━━━━━━━━━━━━━━━━━━━━━━━━━━━━╇━━━━━━━━━━━━━━━━━┩\n",
              "│ dense (\u001b[38;5;33mDense\u001b[0m)                        │ (\u001b[38;5;45mNone\u001b[0m, \u001b[38;5;34m32\u001b[0m)                  │             \u001b[38;5;34m160\u001b[0m │\n",
              "├──────────────────────────────────────┼─────────────────────────────┼─────────────────┤\n",
              "│ dense_1 (\u001b[38;5;33mDense\u001b[0m)                      │ (\u001b[38;5;45mNone\u001b[0m, \u001b[38;5;34m32\u001b[0m)                  │           \u001b[38;5;34m1,056\u001b[0m │\n",
              "├──────────────────────────────────────┼─────────────────────────────┼─────────────────┤\n",
              "│ dropout (\u001b[38;5;33mDropout\u001b[0m)                    │ (\u001b[38;5;45mNone\u001b[0m, \u001b[38;5;34m32\u001b[0m)                  │               \u001b[38;5;34m0\u001b[0m │\n",
              "├──────────────────────────────────────┼─────────────────────────────┼─────────────────┤\n",
              "│ dense_2 (\u001b[38;5;33mDense\u001b[0m)                      │ (\u001b[38;5;45mNone\u001b[0m, \u001b[38;5;34m3\u001b[0m)                   │              \u001b[38;5;34m99\u001b[0m │\n",
              "└──────────────────────────────────────┴─────────────────────────────┴─────────────────┘\n"
            ],
            "text/html": [
              "<pre style=\"white-space:pre;overflow-x:auto;line-height:normal;font-family:Menlo,'DejaVu Sans Mono',consolas,'Courier New',monospace\">┏━━━━━━━━━━━━━━━━━━━━━━━━━━━━━━━━━━━━━━┳━━━━━━━━━━━━━━━━━━━━━━━━━━━━━┳━━━━━━━━━━━━━━━━━┓\n",
              "┃<span style=\"font-weight: bold\"> Layer (type)                         </span>┃<span style=\"font-weight: bold\"> Output Shape                </span>┃<span style=\"font-weight: bold\">         Param # </span>┃\n",
              "┡━━━━━━━━━━━━━━━━━━━━━━━━━━━━━━━━━━━━━━╇━━━━━━━━━━━━━━━━━━━━━━━━━━━━━╇━━━━━━━━━━━━━━━━━┩\n",
              "│ dense (<span style=\"color: #0087ff; text-decoration-color: #0087ff\">Dense</span>)                        │ (<span style=\"color: #00d7ff; text-decoration-color: #00d7ff\">None</span>, <span style=\"color: #00af00; text-decoration-color: #00af00\">32</span>)                  │             <span style=\"color: #00af00; text-decoration-color: #00af00\">160</span> │\n",
              "├──────────────────────────────────────┼─────────────────────────────┼─────────────────┤\n",
              "│ dense_1 (<span style=\"color: #0087ff; text-decoration-color: #0087ff\">Dense</span>)                      │ (<span style=\"color: #00d7ff; text-decoration-color: #00d7ff\">None</span>, <span style=\"color: #00af00; text-decoration-color: #00af00\">32</span>)                  │           <span style=\"color: #00af00; text-decoration-color: #00af00\">1,056</span> │\n",
              "├──────────────────────────────────────┼─────────────────────────────┼─────────────────┤\n",
              "│ dropout (<span style=\"color: #0087ff; text-decoration-color: #0087ff\">Dropout</span>)                    │ (<span style=\"color: #00d7ff; text-decoration-color: #00d7ff\">None</span>, <span style=\"color: #00af00; text-decoration-color: #00af00\">32</span>)                  │               <span style=\"color: #00af00; text-decoration-color: #00af00\">0</span> │\n",
              "├──────────────────────────────────────┼─────────────────────────────┼─────────────────┤\n",
              "│ dense_2 (<span style=\"color: #0087ff; text-decoration-color: #0087ff\">Dense</span>)                      │ (<span style=\"color: #00d7ff; text-decoration-color: #00d7ff\">None</span>, <span style=\"color: #00af00; text-decoration-color: #00af00\">3</span>)                   │              <span style=\"color: #00af00; text-decoration-color: #00af00\">99</span> │\n",
              "└──────────────────────────────────────┴─────────────────────────────┴─────────────────┘\n",
              "</pre>\n"
            ]
          },
          "metadata": {}
        },
        {
          "output_type": "display_data",
          "data": {
            "text/plain": [
              "\u001b[1m Total params: \u001b[0m\u001b[38;5;34m1,315\u001b[0m (5.14 KB)\n"
            ],
            "text/html": [
              "<pre style=\"white-space:pre;overflow-x:auto;line-height:normal;font-family:Menlo,'DejaVu Sans Mono',consolas,'Courier New',monospace\"><span style=\"font-weight: bold\"> Total params: </span><span style=\"color: #00af00; text-decoration-color: #00af00\">1,315</span> (5.14 KB)\n",
              "</pre>\n"
            ]
          },
          "metadata": {}
        },
        {
          "output_type": "display_data",
          "data": {
            "text/plain": [
              "\u001b[1m Trainable params: \u001b[0m\u001b[38;5;34m1,315\u001b[0m (5.14 KB)\n"
            ],
            "text/html": [
              "<pre style=\"white-space:pre;overflow-x:auto;line-height:normal;font-family:Menlo,'DejaVu Sans Mono',consolas,'Courier New',monospace\"><span style=\"font-weight: bold\"> Trainable params: </span><span style=\"color: #00af00; text-decoration-color: #00af00\">1,315</span> (5.14 KB)\n",
              "</pre>\n"
            ]
          },
          "metadata": {}
        },
        {
          "output_type": "display_data",
          "data": {
            "text/plain": [
              "\u001b[1m Non-trainable params: \u001b[0m\u001b[38;5;34m0\u001b[0m (0.00 B)\n"
            ],
            "text/html": [
              "<pre style=\"white-space:pre;overflow-x:auto;line-height:normal;font-family:Menlo,'DejaVu Sans Mono',consolas,'Courier New',monospace\"><span style=\"font-weight: bold\"> Non-trainable params: </span><span style=\"color: #00af00; text-decoration-color: #00af00\">0</span> (0.00 B)\n",
              "</pre>\n"
            ]
          },
          "metadata": {}
        }
      ]
    },
    {
      "cell_type": "code",
      "source": [
        "model.fit(X_train, y_train, epochs=100, verbose=2)"
      ],
      "metadata": {
        "colab": {
          "base_uri": "https://localhost:8080/"
        },
        "id": "p3AI1sRhNZkh",
        "outputId": "7c24aafe-f95d-4408-ccb8-1f617fa6977a"
      },
      "execution_count": 22,
      "outputs": [
        {
          "output_type": "stream",
          "name": "stdout",
          "text": [
            "Epoch 1/100\n",
            "4/4 - 9s - 2s/step - accuracy: 0.3810 - loss: 1.1386\n",
            "Epoch 2/100\n",
            "4/4 - 0s - 27ms/step - accuracy: 0.4286 - loss: 1.0874\n",
            "Epoch 3/100\n",
            "4/4 - 0s - 29ms/step - accuracy: 0.5429 - loss: 0.9880\n",
            "Epoch 4/100\n",
            "4/4 - 0s - 34ms/step - accuracy: 0.5905 - loss: 0.9430\n",
            "Epoch 5/100\n",
            "4/4 - 0s - 35ms/step - accuracy: 0.6095 - loss: 0.9097\n",
            "Epoch 6/100\n",
            "4/4 - 0s - 23ms/step - accuracy: 0.6857 - loss: 0.8652\n",
            "Epoch 7/100\n",
            "4/4 - 0s - 22ms/step - accuracy: 0.7143 - loss: 0.8704\n",
            "Epoch 8/100\n",
            "4/4 - 0s - 25ms/step - accuracy: 0.7905 - loss: 0.7554\n",
            "Epoch 9/100\n",
            "4/4 - 0s - 25ms/step - accuracy: 0.7810 - loss: 0.7418\n",
            "Epoch 10/100\n",
            "4/4 - 0s - 27ms/step - accuracy: 0.8095 - loss: 0.7304\n",
            "Epoch 11/100\n",
            "4/4 - 0s - 39ms/step - accuracy: 0.8000 - loss: 0.7148\n",
            "Epoch 12/100\n",
            "4/4 - 0s - 26ms/step - accuracy: 0.7714 - loss: 0.6912\n",
            "Epoch 13/100\n",
            "4/4 - 0s - 33ms/step - accuracy: 0.8286 - loss: 0.6645\n",
            "Epoch 14/100\n",
            "4/4 - 0s - 26ms/step - accuracy: 0.8190 - loss: 0.6478\n",
            "Epoch 15/100\n",
            "4/4 - 0s - 28ms/step - accuracy: 0.7905 - loss: 0.5760\n",
            "Epoch 16/100\n",
            "4/4 - 0s - 25ms/step - accuracy: 0.8571 - loss: 0.5814\n",
            "Epoch 17/100\n",
            "4/4 - 0s - 32ms/step - accuracy: 0.8381 - loss: 0.5646\n",
            "Epoch 18/100\n",
            "4/4 - 0s - 29ms/step - accuracy: 0.8476 - loss: 0.5235\n",
            "Epoch 19/100\n",
            "4/4 - 0s - 29ms/step - accuracy: 0.8286 - loss: 0.5378\n",
            "Epoch 20/100\n",
            "4/4 - 0s - 23ms/step - accuracy: 0.8762 - loss: 0.4946\n",
            "Epoch 21/100\n",
            "4/4 - 0s - 34ms/step - accuracy: 0.8095 - loss: 0.5213\n",
            "Epoch 22/100\n",
            "4/4 - 0s - 25ms/step - accuracy: 0.8857 - loss: 0.4614\n",
            "Epoch 23/100\n",
            "4/4 - 0s - 30ms/step - accuracy: 0.9048 - loss: 0.4515\n",
            "Epoch 24/100\n",
            "4/4 - 0s - 27ms/step - accuracy: 0.8667 - loss: 0.4392\n",
            "Epoch 25/100\n",
            "4/4 - 0s - 23ms/step - accuracy: 0.8476 - loss: 0.4713\n",
            "Epoch 26/100\n",
            "4/4 - 0s - 31ms/step - accuracy: 0.8571 - loss: 0.4446\n",
            "Epoch 27/100\n",
            "4/4 - 0s - 28ms/step - accuracy: 0.8286 - loss: 0.4832\n",
            "Epoch 28/100\n",
            "4/4 - 0s - 25ms/step - accuracy: 0.8952 - loss: 0.3745\n",
            "Epoch 29/100\n",
            "4/4 - 0s - 41ms/step - accuracy: 0.8667 - loss: 0.4147\n",
            "Epoch 30/100\n",
            "4/4 - 0s - 29ms/step - accuracy: 0.8952 - loss: 0.3964\n",
            "Epoch 31/100\n",
            "4/4 - 0s - 29ms/step - accuracy: 0.8476 - loss: 0.4347\n",
            "Epoch 32/100\n",
            "4/4 - 0s - 34ms/step - accuracy: 0.8952 - loss: 0.3880\n",
            "Epoch 33/100\n",
            "4/4 - 0s - 40ms/step - accuracy: 0.8857 - loss: 0.3471\n",
            "Epoch 34/100\n",
            "4/4 - 0s - 26ms/step - accuracy: 0.8952 - loss: 0.3505\n",
            "Epoch 35/100\n",
            "4/4 - 0s - 21ms/step - accuracy: 0.8571 - loss: 0.4004\n",
            "Epoch 36/100\n",
            "4/4 - 0s - 22ms/step - accuracy: 0.9238 - loss: 0.3220\n",
            "Epoch 37/100\n",
            "4/4 - 0s - 16ms/step - accuracy: 0.8762 - loss: 0.3430\n",
            "Epoch 38/100\n",
            "4/4 - 0s - 35ms/step - accuracy: 0.8667 - loss: 0.3330\n",
            "Epoch 39/100\n",
            "4/4 - 0s - 35ms/step - accuracy: 0.8952 - loss: 0.3227\n",
            "Epoch 40/100\n",
            "4/4 - 0s - 36ms/step - accuracy: 0.9048 - loss: 0.3128\n",
            "Epoch 41/100\n",
            "4/4 - 0s - 34ms/step - accuracy: 0.8952 - loss: 0.3196\n",
            "Epoch 42/100\n",
            "4/4 - 0s - 35ms/step - accuracy: 0.8667 - loss: 0.3551\n",
            "Epoch 43/100\n",
            "4/4 - 0s - 35ms/step - accuracy: 0.8952 - loss: 0.3155\n",
            "Epoch 44/100\n",
            "4/4 - 0s - 35ms/step - accuracy: 0.8667 - loss: 0.3337\n",
            "Epoch 45/100\n",
            "4/4 - 0s - 34ms/step - accuracy: 0.8952 - loss: 0.2924\n",
            "Epoch 46/100\n",
            "4/4 - 0s - 34ms/step - accuracy: 0.8762 - loss: 0.3105\n",
            "Epoch 47/100\n",
            "4/4 - 0s - 34ms/step - accuracy: 0.9143 - loss: 0.2563\n",
            "Epoch 48/100\n",
            "4/4 - 0s - 20ms/step - accuracy: 0.8667 - loss: 0.3237\n",
            "Epoch 49/100\n",
            "4/4 - 0s - 34ms/step - accuracy: 0.9143 - loss: 0.2869\n",
            "Epoch 50/100\n",
            "4/4 - 0s - 33ms/step - accuracy: 0.9143 - loss: 0.2821\n",
            "Epoch 51/100\n",
            "4/4 - 0s - 16ms/step - accuracy: 0.9333 - loss: 0.2516\n",
            "Epoch 52/100\n",
            "4/4 - 0s - 35ms/step - accuracy: 0.8857 - loss: 0.3080\n",
            "Epoch 53/100\n",
            "4/4 - 0s - 35ms/step - accuracy: 0.8952 - loss: 0.2492\n",
            "Epoch 54/100\n",
            "4/4 - 0s - 35ms/step - accuracy: 0.9333 - loss: 0.2356\n",
            "Epoch 55/100\n",
            "4/4 - 0s - 14ms/step - accuracy: 0.8857 - loss: 0.3048\n",
            "Epoch 56/100\n",
            "4/4 - 0s - 33ms/step - accuracy: 0.9048 - loss: 0.2768\n",
            "Epoch 57/100\n",
            "4/4 - 0s - 11ms/step - accuracy: 0.9238 - loss: 0.2463\n",
            "Epoch 58/100\n",
            "4/4 - 0s - 10ms/step - accuracy: 0.8857 - loss: 0.2771\n",
            "Epoch 59/100\n",
            "4/4 - 0s - 10ms/step - accuracy: 0.9333 - loss: 0.2626\n",
            "Epoch 60/100\n",
            "4/4 - 0s - 11ms/step - accuracy: 0.9333 - loss: 0.2164\n",
            "Epoch 61/100\n",
            "4/4 - 0s - 14ms/step - accuracy: 0.9333 - loss: 0.2310\n",
            "Epoch 62/100\n",
            "4/4 - 0s - 15ms/step - accuracy: 0.8952 - loss: 0.2584\n",
            "Epoch 63/100\n",
            "4/4 - 0s - 14ms/step - accuracy: 0.9048 - loss: 0.2675\n",
            "Epoch 64/100\n",
            "4/4 - 0s - 14ms/step - accuracy: 0.8952 - loss: 0.2538\n",
            "Epoch 65/100\n",
            "4/4 - 0s - 14ms/step - accuracy: 0.9143 - loss: 0.2434\n",
            "Epoch 66/100\n",
            "4/4 - 0s - 10ms/step - accuracy: 0.8952 - loss: 0.2263\n",
            "Epoch 67/100\n",
            "4/4 - 0s - 15ms/step - accuracy: 0.9429 - loss: 0.2043\n",
            "Epoch 68/100\n",
            "4/4 - 0s - 11ms/step - accuracy: 0.9429 - loss: 0.1783\n",
            "Epoch 69/100\n",
            "4/4 - 0s - 14ms/step - accuracy: 0.9333 - loss: 0.2194\n",
            "Epoch 70/100\n",
            "4/4 - 0s - 15ms/step - accuracy: 0.9333 - loss: 0.2166\n",
            "Epoch 71/100\n",
            "4/4 - 0s - 10ms/step - accuracy: 0.9524 - loss: 0.2011\n",
            "Epoch 72/100\n",
            "4/4 - 0s - 12ms/step - accuracy: 0.9524 - loss: 0.1988\n",
            "Epoch 73/100\n",
            "4/4 - 0s - 14ms/step - accuracy: 0.9524 - loss: 0.1890\n",
            "Epoch 74/100\n",
            "4/4 - 0s - 14ms/step - accuracy: 0.9333 - loss: 0.2385\n",
            "Epoch 75/100\n",
            "4/4 - 0s - 15ms/step - accuracy: 0.9429 - loss: 0.2026\n",
            "Epoch 76/100\n",
            "4/4 - 0s - 33ms/step - accuracy: 0.9143 - loss: 0.2359\n",
            "Epoch 77/100\n",
            "4/4 - 0s - 34ms/step - accuracy: 0.9524 - loss: 0.1807\n",
            "Epoch 78/100\n",
            "4/4 - 0s - 15ms/step - accuracy: 0.9333 - loss: 0.2270\n",
            "Epoch 79/100\n",
            "4/4 - 0s - 13ms/step - accuracy: 0.9619 - loss: 0.1807\n",
            "Epoch 80/100\n",
            "4/4 - 0s - 15ms/step - accuracy: 0.9238 - loss: 0.2159\n",
            "Epoch 81/100\n",
            "4/4 - 0s - 14ms/step - accuracy: 0.9429 - loss: 0.2072\n",
            "Epoch 82/100\n",
            "4/4 - 0s - 14ms/step - accuracy: 0.9619 - loss: 0.1615\n",
            "Epoch 83/100\n",
            "4/4 - 0s - 12ms/step - accuracy: 0.9524 - loss: 0.1691\n",
            "Epoch 84/100\n",
            "4/4 - 0s - 12ms/step - accuracy: 0.9333 - loss: 0.1894\n",
            "Epoch 85/100\n",
            "4/4 - 0s - 13ms/step - accuracy: 0.8857 - loss: 0.2275\n",
            "Epoch 86/100\n",
            "4/4 - 0s - 12ms/step - accuracy: 0.9524 - loss: 0.1658\n",
            "Epoch 87/100\n",
            "4/4 - 0s - 14ms/step - accuracy: 0.9429 - loss: 0.2010\n",
            "Epoch 88/100\n",
            "4/4 - 0s - 15ms/step - accuracy: 0.9524 - loss: 0.1805\n",
            "Epoch 89/100\n",
            "4/4 - 0s - 13ms/step - accuracy: 0.9810 - loss: 0.1522\n",
            "Epoch 90/100\n",
            "4/4 - 0s - 15ms/step - accuracy: 0.9714 - loss: 0.1764\n",
            "Epoch 91/100\n",
            "4/4 - 0s - 33ms/step - accuracy: 0.9714 - loss: 0.1574\n",
            "Epoch 92/100\n",
            "4/4 - 0s - 13ms/step - accuracy: 0.9333 - loss: 0.2159\n",
            "Epoch 93/100\n",
            "4/4 - 0s - 14ms/step - accuracy: 0.9429 - loss: 0.1680\n",
            "Epoch 94/100\n",
            "4/4 - 0s - 15ms/step - accuracy: 0.9429 - loss: 0.1693\n",
            "Epoch 95/100\n",
            "4/4 - 0s - 12ms/step - accuracy: 0.9333 - loss: 0.1782\n",
            "Epoch 96/100\n",
            "4/4 - 0s - 12ms/step - accuracy: 0.9714 - loss: 0.1409\n",
            "Epoch 97/100\n",
            "4/4 - 0s - 12ms/step - accuracy: 0.9619 - loss: 0.1527\n",
            "Epoch 98/100\n",
            "4/4 - 0s - 12ms/step - accuracy: 0.9429 - loss: 0.1530\n",
            "Epoch 99/100\n",
            "4/4 - 0s - 12ms/step - accuracy: 0.9619 - loss: 0.1477\n",
            "Epoch 100/100\n",
            "4/4 - 0s - 12ms/step - accuracy: 0.9714 - loss: 0.1437\n"
          ]
        },
        {
          "output_type": "execute_result",
          "data": {
            "text/plain": [
              "<keras.src.callbacks.history.History at 0x78b626220350>"
            ]
          },
          "metadata": {},
          "execution_count": 22
        }
      ]
    },
    {
      "cell_type": "code",
      "source": [
        "prediction = model.predict(X_test)\n",
        "prediction"
      ],
      "metadata": {
        "colab": {
          "base_uri": "https://localhost:8080/"
        },
        "id": "ldf0SCo_O-b-",
        "outputId": "d465496a-e8dd-4b97-fd83-4673413bce20"
      },
      "execution_count": 23,
      "outputs": [
        {
          "output_type": "stream",
          "name": "stdout",
          "text": [
            "\u001b[1m2/2\u001b[0m \u001b[32m━━━━━━━━━━━━━━━━━━━━\u001b[0m\u001b[37m\u001b[0m \u001b[1m0s\u001b[0m 322ms/step\n"
          ]
        },
        {
          "output_type": "execute_result",
          "data": {
            "text/plain": [
              "array([[9.99721467e-01, 2.77540996e-04, 9.97151346e-07],\n",
              "       [1.48047060e-02, 9.33779478e-01, 5.14158607e-02],\n",
              "       [9.98314738e-01, 1.67340727e-03, 1.18548323e-05],\n",
              "       [1.83966637e-04, 4.07699496e-03, 9.95739102e-01],\n",
              "       [9.97458756e-01, 2.51773139e-03, 2.35224179e-05],\n",
              "       [9.99888420e-01, 1.11174435e-04, 3.35391093e-07],\n",
              "       [2.16934253e-02, 9.33695197e-01, 4.46114875e-02],\n",
              "       [3.25634668e-04, 1.28362803e-02, 9.86838043e-01],\n",
              "       [4.63784579e-03, 3.48205000e-01, 6.47157192e-01],\n",
              "       [9.99935031e-01, 6.48120986e-05, 1.41057185e-07],\n",
              "       [1.31958467e-03, 7.50901878e-01, 2.47778490e-01],\n",
              "       [9.56059594e-05, 7.93963764e-03, 9.91964698e-01],\n",
              "       [9.99223828e-01, 7.73317181e-04, 2.81098164e-06],\n",
              "       [1.99838370e-01, 6.75539434e-01, 1.24622203e-01],\n",
              "       [3.36865080e-04, 8.03105533e-03, 9.91632044e-01],\n",
              "       [1.69023760e-02, 9.33121026e-01, 4.99765053e-02],\n",
              "       [7.86809064e-03, 9.86482263e-01, 5.64966025e-03],\n",
              "       [2.67787138e-04, 5.63820265e-03, 9.94094074e-01],\n",
              "       [8.13215077e-02, 8.81913722e-01, 3.67647968e-02],\n",
              "       [6.10117102e-04, 3.56017016e-02, 9.63788152e-01],\n",
              "       [2.07029734e-04, 3.08078458e-03, 9.96712208e-01],\n",
              "       [1.91937443e-02, 9.67197120e-01, 1.36091951e-02],\n",
              "       [9.98980582e-01, 1.01507222e-03, 4.28241310e-06],\n",
              "       [9.99469101e-01, 5.28300530e-04, 2.63376478e-06],\n",
              "       [2.70274444e-03, 7.20303729e-02, 9.25266862e-01],\n",
              "       [9.98788774e-01, 1.20413501e-03, 7.11150369e-06],\n",
              "       [1.01423170e-03, 1.08217793e-02, 9.88163948e-01],\n",
              "       [2.45215109e-04, 4.75775357e-03, 9.94997025e-01],\n",
              "       [4.48203012e-02, 8.89901102e-01, 6.52786940e-02],\n",
              "       [9.99353468e-01, 6.43180276e-04, 3.31770002e-06],\n",
              "       [9.99559343e-01, 4.39102238e-04, 1.51889731e-06],\n",
              "       [9.99737203e-01, 2.62117421e-04, 7.19368984e-07],\n",
              "       [9.99762475e-01, 2.36557215e-04, 9.71298164e-07],\n",
              "       [8.88678245e-03, 1.17029853e-01, 8.74083400e-01],\n",
              "       [4.55450663e-06, 1.63039169e-03, 9.98365104e-01],\n",
              "       [3.10423435e-04, 6.24783942e-03, 9.93441701e-01],\n",
              "       [9.99713600e-01, 2.85769114e-04, 6.30893283e-07],\n",
              "       [7.05103651e-02, 7.58765280e-01, 1.70724288e-01],\n",
              "       [3.19491588e-02, 8.79216194e-01, 8.88346136e-02],\n",
              "       [9.96563956e-03, 1.27765998e-01, 8.62268388e-01],\n",
              "       [9.99832392e-01, 1.66942598e-04, 6.48440789e-07],\n",
              "       [6.89332199e-04, 9.22502298e-03, 9.90085721e-01],\n",
              "       [1.06533833e-01, 7.62216091e-01, 1.31250069e-01],\n",
              "       [9.98900414e-01, 1.09423581e-03, 5.40355313e-06],\n",
              "       [2.15683430e-02, 7.80423164e-01, 1.98008463e-01]], dtype=float32)"
            ]
          },
          "metadata": {},
          "execution_count": 23
        }
      ]
    },
    {
      "cell_type": "code",
      "source": [
        "prediction = np.argmax(prediction, axis=1)\n",
        "prediction"
      ],
      "metadata": {
        "colab": {
          "base_uri": "https://localhost:8080/"
        },
        "id": "Y0HzzWbAPMpt",
        "outputId": "ea8ad00a-6078-44ed-ab3b-aa5c9698b721"
      },
      "execution_count": 24,
      "outputs": [
        {
          "output_type": "execute_result",
          "data": {
            "text/plain": [
              "array([0, 1, 0, 2, 0, 0, 1, 2, 2, 0, 1, 2, 0, 1, 2, 1, 1, 2, 1, 2, 2, 1,\n",
              "       0, 0, 2, 0, 2, 2, 1, 0, 0, 0, 0, 2, 2, 2, 0, 1, 1, 2, 0, 2, 1, 0,\n",
              "       1])"
            ]
          },
          "metadata": {},
          "execution_count": 24
        }
      ]
    },
    {
      "cell_type": "code",
      "source": [
        "from sklearn.metrics import accuracy_score, confusion_matrix\n",
        "print(\"Accuracy Score : \", accuracy_score(y_test, prediction))\n",
        "print(\"_\"*100)\n",
        "print()\n",
        "print(\"Confusion matrix : \\n\", confusion_matrix(y_test, prediction))"
      ],
      "metadata": {
        "colab": {
          "base_uri": "https://localhost:8080/"
        },
        "id": "N8W6e0MkPXHG",
        "outputId": "c5a94350-fc68-4499-fae6-be9b9a46f4e4"
      },
      "execution_count": 25,
      "outputs": [
        {
          "output_type": "stream",
          "name": "stdout",
          "text": [
            "Accuracy Score :  0.9777777777777777\n",
            "____________________________________________________________________________________________________\n",
            "\n",
            "Confusion matrix : \n",
            " [[16  0  0]\n",
            " [ 0 12  0]\n",
            " [ 0  1 16]]\n"
          ]
        }
      ]
    },
    {
      "cell_type": "code",
      "source": [
        "cm = confusion_matrix(y_test, prediction)"
      ],
      "metadata": {
        "id": "IlonIi2JPl3b"
      },
      "execution_count": 26,
      "outputs": []
    },
    {
      "cell_type": "code",
      "source": [
        "species_name = label.classes_"
      ],
      "metadata": {
        "id": "I-ilPtFIRLrL"
      },
      "execution_count": 27,
      "outputs": []
    },
    {
      "cell_type": "code",
      "source": [
        "ax = sns.heatmap(cm, annot=True, fmt='d', cmap='Reds', xticklabels=species_name, yticklabels=species_name)\n",
        "ax.set_title('confusion matrix for irsis dataset prediction')\n",
        "ax.set_xlabel('prediction', fontsize=14)\n",
        "ax.set_ylabel('actual', fontsize=14)"
      ],
      "metadata": {
        "colab": {
          "base_uri": "https://localhost:8080/",
          "height": 494
        },
        "id": "ihYthnT6Q2fp",
        "outputId": "0f33e10f-4cc0-4a92-ed06-20ca5af3be56"
      },
      "execution_count": 28,
      "outputs": [
        {
          "output_type": "execute_result",
          "data": {
            "text/plain": [
              "Text(50.72222222222221, 0.5, 'actual')"
            ]
          },
          "metadata": {},
          "execution_count": 28
        },
        {
          "output_type": "display_data",
          "data": {
            "text/plain": [
              "<Figure size 640x480 with 2 Axes>"
            ],
            "image/png": "[encoded data removed]"
          },
          "metadata": {}
        }
      ]
    },
    {
      "cell_type": "markdown",
      "source": [
        "## Hyperparameter Tuning"
      ],
      "metadata": {
        "id": "QhigLq5dRerb"
      }
    },
    {
      "cell_type": "code",
      "source": [
        "#pip install keras-tuner\n",
        "#!pip install keras-tuner --upgrade"
      ],
      "metadata": {
        "colab": {
          "base_uri": "https://localhost:8080/"
        },
        "id": "7YB9NqNyQhW5",
        "outputId": "3cc01953-fc2d-40d9-e2f7-3d143c12abe8"
      },
      "execution_count": 33,
      "outputs": [
        {
          "output_type": "stream",
          "name": "stdout",
          "text": [
            "Collecting keras-tuner\n",
            "  Downloading keras_tuner-1.4.7-py3-none-any.whl.metadata (5.4 kB)\n",
            "Requirement already satisfied: keras in /usr/local/lib/python3.11/dist-packages (from keras-tuner) (3.8.0)\n",
            "Requirement already satisfied: packaging in /usr/local/lib/python3.11/dist-packages (from keras-tuner) (24.2)\n",
            "Requirement already satisfied: requests in /usr/local/lib/python3.11/dist-packages (from keras-tuner) (2.32.3)\n",
            "Collecting kt-legacy (from keras-tuner)\n",
            "  Downloading kt_legacy-1.0.5-py3-none-any.whl.metadata (221 bytes)\n",
            "Requirement already satisfied: absl-py in /usr/local/lib/python3.11/dist-packages (from keras->keras-tuner) (1.4.0)\n",
            "Requirement already satisfied: numpy in /usr/local/lib/python3.11/dist-packages (from keras->keras-tuner) (1.26.4)\n",
            "Requirement already satisfied: rich in /usr/local/lib/python3.11/dist-packages (from keras->keras-tuner) (13.9.4)\n",
            "Requirement already satisfied: namex in /usr/local/lib/python3.11/dist-packages (from keras->keras-tuner) (0.0.8)\n",
            "Requirement already satisfied: h5py in /usr/local/lib/python3.11/dist-packages (from keras->keras-tuner) (3.12.1)\n",
            "Requirement already satisfied: optree in /usr/local/lib/python3.11/dist-packages (from keras->keras-tuner) (0.14.1)\n",
            "Requirement already satisfied: ml-dtypes in /usr/local/lib/python3.11/dist-packages (from keras->keras-tuner) (0.4.1)\n",
            "Requirement already satisfied: charset-normalizer<4,>=2 in /usr/local/lib/python3.11/dist-packages (from requests->keras-tuner) (3.4.1)\n",
            "Requirement already satisfied: idna<4,>=2.5 in /usr/local/lib/python3.11/dist-packages (from requests->keras-tuner) (3.10)\n",
            "Requirement already satisfied: urllib3<3,>=1.21.1 in /usr/local/lib/python3.11/dist-packages (from requests->keras-tuner) (2.3.0)\n",
            "Requirement already satisfied: certifi>=2017.4.17 in /usr/local/lib/python3.11/dist-packages (from requests->keras-tuner) (2025.1.31)\n",
            "Requirement already satisfied: typing-extensions>=4.5.0 in /usr/local/lib/python3.11/dist-packages (from optree->keras->keras-tuner) (4.12.2)\n",
            "Requirement already satisfied: markdown-it-py>=2.2.0 in /usr/local/lib/python3.11/dist-packages (from rich->keras->keras-tuner) (3.0.0)\n",
            "Requirement already satisfied: pygments<3.0.0,>=2.13.0 in /usr/local/lib/python3.11/dist-packages (from rich->keras->keras-tuner) (2.18.0)\n",
            "Requirement already satisfied: mdurl~=0.1 in /usr/local/lib/python3.11/dist-packages (from markdown-it-py>=2.2.0->rich->keras->keras-tuner) (0.1.2)\n",
            "Downloading keras_tuner-1.4.7-py3-none-any.whl (129 kB)\n",
            "\u001b[2K   \u001b[90m━━━━━━━━━━━━━━━━━━━━━━━━━━━━━━━━━━━━━━━━\u001b[0m \u001b[32m129.1/129.1 kB\u001b[0m \u001b[31m3.7 MB/s\u001b[0m eta \u001b[36m0:00:00\u001b[0m\n",
            "\u001b[?25hDownloading kt_legacy-1.0.5-py3-none-any.whl (9.6 kB)\n",
            "Installing collected packages: kt-legacy, keras-tuner\n",
            "Successfully installed keras-tuner-1.4.7 kt-legacy-1.0.5\n"
          ]
        }
      ]
    },
    {
      "cell_type": "code",
      "source": [
        "import keras_tuner as kt"
      ],
      "metadata": {
        "id": "nMAea9IjQiVm"
      },
      "execution_count": 34,
      "outputs": []
    },
    {
      "cell_type": "code",
      "source": [
        "X_train, X_val, y_train, y_val = train_test_split(X_train, y_train, test_size=0.2, random_state=42)"
      ],
      "metadata": {
        "id": "h4WccjbedGUO"
      },
      "execution_count": 43,
      "outputs": []
    },
    {
      "cell_type": "code",
      "source": [
        "# 1. Define the model-building function with tunable hyperparameters\n",
        "def build_model(hp):\n",
        "    model = Sequential()\n",
        "\n",
        "    # Tune the number of units in the first Dense layer\n",
        "    model.add(Dense(units=hp.Int('units_1', min_value=32, max_value=128, step=32),\n",
        "                    activation='relu', input_shape=(X_train.shape[1],)))\n",
        "\n",
        "    # Tune the number of units in the second Dense layer\n",
        "    model.add(Dense(units=hp.Int('units_2', min_value=32, max_value=128, step=32),\n",
        "                    activation='relu'))\n",
        "\n",
        "    # Add Dropout layer and tune the dropout rate\n",
        "    model.add(Dropout(hp.Float('dropout', min_value=0.2, max_value=0.7, step=0.1)))\n",
        "\n",
        "    # Output layer with softmax for 3 classes\n",
        "    model.add(Dense(units=3, activation='softmax'))\n",
        "\n",
        "    # Compile the model with Adam optimizer and tune the learning rate\n",
        "    model.compile(optimizer=Adam(learning_rate=hp.Float('learning_rate', min_value=1e-4, max_value=1e-2, sampling='LOG', default=1e-3)),\n",
        "                  loss='categorical_crossentropy',\n",
        "                  metrics=['accuracy'])\n",
        "\n",
        "    return model"
      ],
      "metadata": {
        "id": "ss0WNp0MZjhg"
      },
      "execution_count": 39,
      "outputs": []
    },
    {
      "cell_type": "code",
      "source": [
        "## 2. Set up the Hyperparameter Tuner\n",
        "tuner = kt.RandomSearch(\n",
        "    build_model,  # The function that defines the model\n",
        "    objective='val_accuracy',  # The metric to optimize (validation accuracy)\n",
        "    max_trials=5,  # Number of different hyperparameter combinations to try\n",
        "    executions_per_trial=1,  # Number of models to train for each trial\n",
        "    directory='my_dir',  # Directory to save the results\n",
        "    project_name='hyperparameter_tuning'  # Name of the project\n",
        ")"
      ],
      "metadata": {
        "id": "s-T41zSAb7ZV"
      },
      "execution_count": 40,
      "outputs": []
    },
    {
      "cell_type": "code",
      "source": [
        "# 3. Perform the hyperparameter search\n",
        "tuner.search(X_train, y_train, epochs=10, validation_data=(X_val, y_val), verbose=2)"
      ],
      "metadata": {
        "colab": {
          "base_uri": "https://localhost:8080/"
        },
        "id": "-Ib2JPjIcIyz",
        "outputId": "9d6caaa2-375d-42cf-d64e-a34ec4891e30"
      },
      "execution_count": 44,
      "outputs": [
        {
          "output_type": "stream",
          "name": "stdout",
          "text": [
            "Trial 5 Complete [00h 00m 05s]\n",
            "val_accuracy: 0.6666666865348816\n",
            "\n",
            "Best val_accuracy So Far: 0.9523809552192688\n",
            "Total elapsed time: 00h 01m 34s\n"
          ]
        }
      ]
    },
    {
      "cell_type": "code",
      "source": [
        "# 4. Retrieve the best model and hyperparameters\n",
        "best_model = tuner.get_best_models(num_models=1)[0]\n",
        "best_hyperparameters = tuner.get_best_hyperparameters(num_trials=1)[0]"
      ],
      "metadata": {
        "colab": {
          "base_uri": "https://localhost:8080/"
        },
        "id": "f7AGqh_3cmmT",
        "outputId": "7f62db0e-bceb-4391-c164-e1ca0c71ed45"
      },
      "execution_count": 51,
      "outputs": [
        {
          "output_type": "stream",
          "name": "stderr",
          "text": [
            "/usr/local/lib/python3.11/dist-packages/keras/src/layers/core/dense.py:87: UserWarning: Do not pass an `input_shape`/`input_dim` argument to a layer. When using Sequential models, prefer using an `Input(shape)` object as the first layer in the model instead.\n",
            "  super().__init__(activity_regularizer=activity_regularizer, **kwargs)\n",
            "/usr/local/lib/python3.11/dist-packages/keras/src/saving/saving_lib.py:757: UserWarning: Skipping variable loading for optimizer 'adam', because it has 2 variables whereas the saved optimizer has 14 variables. \n",
            "  saveable.load_own_variables(weights_store.get(inner_path))\n"
          ]
        }
      ]
    },
    {
      "cell_type": "code",
      "source": [
        "print(\"Best Hyperparameters:\", best_hyperparameters.values)"
      ],
      "metadata": {
        "colab": {
          "base_uri": "https://localhost:8080/"
        },
        "id": "xgqOg0Efdc63",
        "outputId": "166f0d41-a4ec-4b7f-e83e-2755ca33d446"
      },
      "execution_count": 52,
      "outputs": [
        {
          "output_type": "stream",
          "name": "stdout",
          "text": [
            "Best Hyperparameters: {'units_1': 128, 'units_2': 128, 'dropout': 0.5, 'learning_rate': 0.0029110238976895516}\n"
          ]
        }
      ]
    },
    {
      "cell_type": "code",
      "source": [
        "# Evaluate the best model on the test data\n",
        "y_test = tf.keras.utils.to_categorical(y_test, num_classes=3)\n",
        "best_model.evaluate(X_test, y_test)"
      ],
      "metadata": {
        "colab": {
          "base_uri": "https://localhost:8080/"
        },
        "id": "fORCjWjxevTO",
        "outputId": "57d3ff7e-cff6-4515-aa52-93c9d642346a"
      },
      "execution_count": 67,
      "outputs": [
        {
          "output_type": "stream",
          "name": "stdout",
          "text": [
            "\u001b[1m2/2\u001b[0m \u001b[32m━━━━━━━━━━━━━━━━━━━━\u001b[0m\u001b[37m\u001b[0m \u001b[1m1s\u001b[0m 273ms/step - accuracy: 0.9748 - loss: 0.1150\n"
          ]
        },
        {
          "output_type": "execute_result",
          "data": {
            "text/plain": [
              "[0.10216233134269714, 0.9777777791023254]"
            ]
          },
          "metadata": {},
          "execution_count": 67
        }
      ]
    },
    {
      "cell_type": "code",
      "source": [
        "# Optionally, train the best model for more epochs\n",
        "best_model.fit(X_train, y_train, epochs=50, validation_data=(X_val, y_val), verbose=2)\n"
      ],
      "metadata": {
        "colab": {
          "base_uri": "https://localhost:8080/"
        },
        "id": "NAkGZPu6dyQF",
        "outputId": "69903202-1081-4584-8b0a-3ce307ecc34b"
      },
      "execution_count": 53,
      "outputs": [
        {
          "output_type": "stream",
          "name": "stdout",
          "text": [
            "Epoch 1/50\n",
            "3/3 - 5s - 2s/step - accuracy: 0.8452 - loss: 0.2842 - val_accuracy: 0.9048 - val_loss: 0.3334\n",
            "Epoch 2/50\n",
            "3/3 - 0s - 26ms/step - accuracy: 0.8571 - loss: 0.2339 - val_accuracy: 0.9048 - val_loss: 0.3350\n",
            "Epoch 3/50\n",
            "3/3 - 0s - 22ms/step - accuracy: 0.8929 - loss: 0.2421 - val_accuracy: 0.9524 - val_loss: 0.3310\n",
            "Epoch 4/50\n",
            "3/3 - 0s - 46ms/step - accuracy: 0.9286 - loss: 0.2149 - val_accuracy: 0.9524 - val_loss: 0.3328\n",
            "Epoch 5/50\n",
            "3/3 - 0s - 23ms/step - accuracy: 0.9167 - loss: 0.2250 - val_accuracy: 0.9524 - val_loss: 0.3238\n",
            "Epoch 6/50\n",
            "3/3 - 0s - 46ms/step - accuracy: 0.9405 - loss: 0.1800 - val_accuracy: 0.9524 - val_loss: 0.3251\n",
            "Epoch 7/50\n",
            "3/3 - 0s - 45ms/step - accuracy: 0.9048 - loss: 0.2046 - val_accuracy: 0.9524 - val_loss: 0.3299\n",
            "Epoch 8/50\n",
            "3/3 - 0s - 23ms/step - accuracy: 0.9405 - loss: 0.1636 - val_accuracy: 0.9524 - val_loss: 0.3215\n",
            "Epoch 9/50\n",
            "3/3 - 0s - 48ms/step - accuracy: 0.9524 - loss: 0.1610 - val_accuracy: 0.9524 - val_loss: 0.3186\n",
            "Epoch 10/50\n",
            "3/3 - 0s - 45ms/step - accuracy: 0.9524 - loss: 0.1388 - val_accuracy: 0.9524 - val_loss: 0.3189\n",
            "Epoch 11/50\n",
            "3/3 - 0s - 26ms/step - accuracy: 0.9405 - loss: 0.1380 - val_accuracy: 0.9524 - val_loss: 0.3207\n",
            "Epoch 12/50\n",
            "3/3 - 0s - 24ms/step - accuracy: 0.9643 - loss: 0.1166 - val_accuracy: 0.9524 - val_loss: 0.3263\n",
            "Epoch 13/50\n",
            "3/3 - 0s - 24ms/step - accuracy: 0.9762 - loss: 0.1004 - val_accuracy: 0.9524 - val_loss: 0.3315\n",
            "Epoch 14/50\n",
            "3/3 - 0s - 23ms/step - accuracy: 0.9524 - loss: 0.0983 - val_accuracy: 0.9524 - val_loss: 0.3400\n",
            "Epoch 15/50\n",
            "3/3 - 0s - 24ms/step - accuracy: 0.9643 - loss: 0.1134 - val_accuracy: 0.9524 - val_loss: 0.3363\n",
            "Epoch 16/50\n",
            "3/3 - 0s - 24ms/step - accuracy: 0.9643 - loss: 0.1058 - val_accuracy: 0.9524 - val_loss: 0.3408\n",
            "Epoch 17/50\n",
            "3/3 - 0s - 45ms/step - accuracy: 0.9762 - loss: 0.1021 - val_accuracy: 0.9524 - val_loss: 0.3325\n",
            "Epoch 18/50\n",
            "3/3 - 0s - 23ms/step - accuracy: 0.9643 - loss: 0.1044 - val_accuracy: 0.9524 - val_loss: 0.3250\n",
            "Epoch 19/50\n",
            "3/3 - 0s - 23ms/step - accuracy: 0.9405 - loss: 0.1177 - val_accuracy: 0.9524 - val_loss: 0.3231\n",
            "Epoch 20/50\n",
            "3/3 - 0s - 48ms/step - accuracy: 0.9643 - loss: 0.0861 - val_accuracy: 0.9524 - val_loss: 0.3141\n",
            "Epoch 21/50\n",
            "3/3 - 0s - 43ms/step - accuracy: 0.9762 - loss: 0.1067 - val_accuracy: 0.9524 - val_loss: 0.3169\n",
            "Epoch 22/50\n",
            "3/3 - 0s - 45ms/step - accuracy: 0.9405 - loss: 0.0989 - val_accuracy: 0.9524 - val_loss: 0.3181\n",
            "Epoch 23/50\n",
            "3/3 - 0s - 47ms/step - accuracy: 0.9881 - loss: 0.0611 - val_accuracy: 0.9524 - val_loss: 0.3051\n",
            "Epoch 24/50\n",
            "3/3 - 0s - 23ms/step - accuracy: 0.9762 - loss: 0.0668 - val_accuracy: 0.9524 - val_loss: 0.2973\n",
            "Epoch 25/50\n",
            "3/3 - 0s - 48ms/step - accuracy: 0.9762 - loss: 0.0526 - val_accuracy: 0.9524 - val_loss: 0.3030\n",
            "Epoch 26/50\n",
            "3/3 - 0s - 43ms/step - accuracy: 0.9762 - loss: 0.0699 - val_accuracy: 0.9524 - val_loss: 0.3104\n",
            "Epoch 27/50\n",
            "3/3 - 0s - 23ms/step - accuracy: 0.9762 - loss: 0.0608 - val_accuracy: 0.9524 - val_loss: 0.3270\n",
            "Epoch 28/50\n",
            "3/3 - 0s - 63ms/step - accuracy: 0.9643 - loss: 0.0767 - val_accuracy: 0.9524 - val_loss: 0.3278\n",
            "Epoch 29/50\n",
            "3/3 - 0s - 29ms/step - accuracy: 0.9881 - loss: 0.0415 - val_accuracy: 0.9524 - val_loss: 0.3456\n",
            "Epoch 30/50\n",
            "3/3 - 0s - 46ms/step - accuracy: 0.9643 - loss: 0.1155 - val_accuracy: 0.9524 - val_loss: 0.3572\n",
            "Epoch 31/50\n",
            "3/3 - 0s - 46ms/step - accuracy: 1.0000 - loss: 0.0442 - val_accuracy: 0.9524 - val_loss: 0.3314\n",
            "Epoch 32/50\n",
            "3/3 - 0s - 46ms/step - accuracy: 0.9643 - loss: 0.0570 - val_accuracy: 0.9524 - val_loss: 0.3274\n",
            "Epoch 33/50\n",
            "3/3 - 0s - 23ms/step - accuracy: 0.9762 - loss: 0.0489 - val_accuracy: 0.9524 - val_loss: 0.3255\n",
            "Epoch 34/50\n",
            "3/3 - 0s - 24ms/step - accuracy: 0.9524 - loss: 0.0700 - val_accuracy: 0.9524 - val_loss: 0.3289\n",
            "Epoch 35/50\n",
            "3/3 - 0s - 46ms/step - accuracy: 1.0000 - loss: 0.0450 - val_accuracy: 0.9524 - val_loss: 0.3182\n",
            "Epoch 36/50\n",
            "3/3 - 0s - 24ms/step - accuracy: 0.9762 - loss: 0.0590 - val_accuracy: 0.9524 - val_loss: 0.3177\n",
            "Epoch 37/50\n",
            "3/3 - 0s - 24ms/step - accuracy: 0.9762 - loss: 0.0500 - val_accuracy: 0.9524 - val_loss: 0.3356\n",
            "Epoch 38/50\n",
            "3/3 - 0s - 27ms/step - accuracy: 0.9762 - loss: 0.0436 - val_accuracy: 0.9524 - val_loss: 0.3564\n",
            "Epoch 39/50\n",
            "3/3 - 0s - 47ms/step - accuracy: 0.9762 - loss: 0.0478 - val_accuracy: 0.9524 - val_loss: 0.3666\n",
            "Epoch 40/50\n",
            "3/3 - 0s - 45ms/step - accuracy: 0.9643 - loss: 0.0640 - val_accuracy: 0.9524 - val_loss: 0.3552\n",
            "Epoch 41/50\n",
            "3/3 - 0s - 23ms/step - accuracy: 0.9643 - loss: 0.0527 - val_accuracy: 0.9524 - val_loss: 0.3413\n",
            "Epoch 42/50\n",
            "3/3 - 0s - 24ms/step - accuracy: 0.9881 - loss: 0.0403 - val_accuracy: 0.9524 - val_loss: 0.3407\n",
            "Epoch 43/50\n",
            "3/3 - 0s - 52ms/step - accuracy: 0.9762 - loss: 0.0669 - val_accuracy: 0.9524 - val_loss: 0.3674\n",
            "Epoch 44/50\n",
            "3/3 - 0s - 23ms/step - accuracy: 0.9881 - loss: 0.0356 - val_accuracy: 0.9524 - val_loss: 0.3836\n",
            "Epoch 45/50\n",
            "3/3 - 0s - 25ms/step - accuracy: 0.9881 - loss: 0.0577 - val_accuracy: 0.9524 - val_loss: 0.3858\n",
            "Epoch 46/50\n",
            "3/3 - 0s - 30ms/step - accuracy: 0.9643 - loss: 0.0565 - val_accuracy: 0.9524 - val_loss: 0.3904\n",
            "Epoch 47/50\n",
            "3/3 - 0s - 65ms/step - accuracy: 0.9881 - loss: 0.0335 - val_accuracy: 0.9524 - val_loss: 0.4079\n",
            "Epoch 48/50\n",
            "3/3 - 0s - 93ms/step - accuracy: 0.9881 - loss: 0.0502 - val_accuracy: 0.9524 - val_loss: 0.4413\n",
            "Epoch 49/50\n",
            "3/3 - 0s - 47ms/step - accuracy: 0.9881 - loss: 0.0389 - val_accuracy: 0.9524 - val_loss: 0.4269\n",
            "Epoch 50/50\n",
            "3/3 - 0s - 101ms/step - accuracy: 0.9881 - loss: 0.0391 - val_accuracy: 0.9524 - val_loss: 0.4124\n"
          ]
        },
        {
          "output_type": "execute_result",
          "data": {
            "text/plain": [
              "<keras.src.callbacks.history.History at 0x78b5996116d0>"
            ]
          },
          "metadata": {},
          "execution_count": 53
        }
      ]
    },
    {
      "cell_type": "code",
      "source": [
        "# Evaluate the best model on the test data\n",
        "prediction = best_model.predict(X_test)"
      ],
      "metadata": {
        "colab": {
          "base_uri": "https://localhost:8080/"
        },
        "id": "09OyzBdZeK2Q",
        "outputId": "f59a2c21-609f-4484-d6cf-af8c3706479a"
      },
      "execution_count": 56,
      "outputs": [
        {
          "output_type": "stream",
          "name": "stdout",
          "text": [
            "\u001b[1m2/2\u001b[0m \u001b[32m━━━━━━━━━━━━━━━━━━━━\u001b[0m\u001b[37m\u001b[0m \u001b[1m0s\u001b[0m 32ms/step\n"
          ]
        }
      ]
    },
    {
      "cell_type": "code",
      "source": [
        "prediction = np.argmax(prediction, axis=1)\n",
        "prediction"
      ],
      "metadata": {
        "colab": {
          "base_uri": "https://localhost:8080/"
        },
        "id": "5nVDPTeCeOPP",
        "outputId": "842b3f77-ed86-420b-cde5-55d27dc07eca"
      },
      "execution_count": 57,
      "outputs": [
        {
          "output_type": "execute_result",
          "data": {
            "text/plain": [
              "array([0, 1, 0, 2, 0, 0, 1, 2, 2, 0, 1, 2, 0, 1, 2, 1, 1, 2, 1, 2, 2, 1,\n",
              "       0, 0, 2, 0, 2, 2, 1, 0, 0, 0, 0, 2, 2, 2, 0, 1, 1, 2, 0, 2, 1, 0,\n",
              "       1])"
            ]
          },
          "metadata": {},
          "execution_count": 57
        }
      ]
    },
    {
      "cell_type": "code",
      "source": [
        "from sklearn.metrics import accuracy_score, confusion_matrix\n",
        "print(\"Accuracy Score : \", accuracy_score(y_test, prediction))\n",
        "print(\"_\"*100)\n",
        "print()\n",
        "print(\"Confusion matrix : \\n\", confusion_matrix(y_test, prediction))"
      ],
      "metadata": {
        "colab": {
          "base_uri": "https://localhost:8080/"
        },
        "id": "klMj-s3Ded3C",
        "outputId": "f2854046-b739-4033-eec1-1774b0eb2cea"
      },
      "execution_count": 58,
      "outputs": [
        {
          "output_type": "stream",
          "name": "stdout",
          "text": [
            "Accuracy Score :  0.9777777777777777\n",
            "____________________________________________________________________________________________________\n",
            "\n",
            "Confusion matrix : \n",
            " [[16  0  0]\n",
            " [ 0 12  0]\n",
            " [ 0  1 16]]\n"
          ]
        }
      ]
    },
    {
      "cell_type": "code",
      "source": [],
      "metadata": {
        "id": "gVhf-KRHeixj"
      },
      "execution_count": null,
      "outputs": []
    }
  ]
}